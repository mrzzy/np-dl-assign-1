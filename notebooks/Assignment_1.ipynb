{
 "cells": [
  {
   "cell_type": "markdown",
   "metadata": {},
   "source": [
    "<table class=\"table table-bordered\">\n",
    "    <tr>\n",
    "        <th style=\"text-align:center; width:25%\"><img src='https://www.np.edu.sg/PublishingImages/Pages/default/odp/ICT.jpg' style=\"width: 250px; height: 125px; \"></th>\n",
    "        <th style=\"text-align:center;\"><h1>Deep Learning</h1><h2>Assignment 1 - Food Classification Model (Individual)</h2><h3>AY2020/21 Semester</h3></th>\n",
    "    </tr>\n",
    "</table>"
   ]
  },
  {
   "cell_type": "markdown",
   "metadata": {},
   "source": [
    "# Imports & Setup"
   ]
  },
  {
   "cell_type": "code",
   "execution_count": 1,
   "metadata": {},
   "outputs": [],
   "source": [
    "# Import the Required Packages\n",
    "import os\n",
    "import dask as d\n",
    "import mlflow\n",
    "import numba\n",
    "import numpy as np\n",
    "import pandas as pd\n",
    "import seaborn as sns\n",
    "import albumentations as A\n",
    "import matplotlib.pyplot as plt\n",
    "import dask.bag as db\n",
    "import tensorflow as tf\n",
    "from git import Repo\n",
    "from uuid import uuid4\n",
    "from tempfile import mkdtemp, NamedTemporaryFile\n",
    "from shutil import rmtree\n",
    "from random import randint\n",
    "from io import BytesIO\n",
    "from minio import Minio\n",
    "from math import floor\n",
    "from typing import Tuple, Optional\n",
    "from mlflow.entities import ViewType, RunStatus\n",
    "from mlflow.tracking import MlflowClient\n",
    "from PIL import Image\n",
    "from tensorflow.keras import backend as K\n",
    "from tensorflow.keras.layers import *\n",
    "from tensorflow.keras.optimizers import *\n",
    "from tensorflow.keras.callbacks import *\n",
    "from tensorflow.keras.regularizers import *\n",
    "from tensorflow.keras.models import Model, load_model\n",
    "from tensorflow.keras.utils import Sequence, to_categorical\n",
    "from tensorflow.keras.applications.nasnet import NASNetMobile, preprocess_input\n",
    "from tensorflow.keras.preprocessing.image import ImageDataGenerator\n",
    "from multiprocessing.pool import ThreadPool\n",
    "from multiprocessing import cpu_count\n",
    "from dask.distributed import Client"
   ]
  },
  {
   "cell_type": "markdown",
   "metadata": {},
   "source": [
    "`TF_FORCE_GPU_ALLOW_GROWTH` -  Force Tensorflow to allocate GPU memory dynamically\n",
    "instead of of all at once as a workaround for this\n",
    "[cuDNN failed to initialize issue](https://github.com/tensorflow/tensorflow/issues/24828)."
   ]
  },
  {
   "cell_type": "code",
   "execution_count": 2,
   "metadata": {},
   "outputs": [
    {
     "name": "stdout",
     "output_type": "stream",
     "text": [
      "env: TF_FORCE_GPU_ALLOW_GROWTH=true\n"
     ]
    }
   ],
   "source": [
    "%env TF_FORCE_GPU_ALLOW_GROWTH=true"
   ]
  },
  {
   "cell_type": "markdown",
   "metadata": {},
   "source": [
    "Configure access to `minio` -  S3 store which stores the dataset."
   ]
  },
  {
   "cell_type": "code",
   "execution_count": 3,
   "metadata": {},
   "outputs": [],
   "source": [
    "minio = Minio(os.environ[\"MINIO_HOST\"],\n",
    "              access_key=os.environ[\"MINIO_ACCESS_KEY\"],\n",
    "              secret_key=os.environ[\"MINIO_SECRET_KEY\"],\n",
    "              secure=False)"
   ]
  },
  {
   "cell_type": "markdown",
   "metadata": {},
   "source": [
    "Configure access to `dask` for parallelised computation."
   ]
  },
  {
   "cell_type": "code",
   "execution_count": 4,
   "metadata": {},
   "outputs": [
    {
     "data": {
      "text/html": [
       "<table style=\"border: 2px solid white;\">\n",
       "<tr>\n",
       "<td style=\"vertical-align: top; border: 0px solid white\">\n",
       "<h3 style=\"text-align: left;\">Client</h3>\n",
       "<ul style=\"text-align: left; list-style: none; margin: 0; padding: 0;\">\n",
       "  <li><b>Scheduler: </b>tcp://127.0.0.1:34727</li>\n",
       "  <li><b>Dashboard: </b><a href='http://127.0.0.1:8787/status' target='_blank'>http://127.0.0.1:8787/status</a></li>\n",
       "</ul>\n",
       "</td>\n",
       "<td style=\"vertical-align: top; border: 0px solid white\">\n",
       "<h3 style=\"text-align: left;\">Cluster</h3>\n",
       "<ul style=\"text-align: left; list-style:none; margin: 0; padding: 0;\">\n",
       "  <li><b>Workers: </b>4</li>\n",
       "  <li><b>Cores: </b>12</li>\n",
       "  <li><b>Memory: </b>8.00 GB</li>\n",
       "</ul>\n",
       "</td>\n",
       "</tr>\n",
       "</table>"
      ],
      "text/plain": [
       "<Client: 'tcp://127.0.0.1:34727' processes=4 threads=12, memory=8.00 GB>"
      ]
     },
     "execution_count": 4,
     "metadata": {},
     "output_type": "execute_result"
    }
   ],
   "source": [
    "dask_cli = Client(\n",
    "    # make sure we dont hit OOM errors\n",
    "    memory_limit=\"2GB\"\n",
    ")\n",
    "dask_cli"
   ]
  },
  {
   "cell_type": "markdown",
   "metadata": {},
   "source": [
    "Configure access to MLFlow by setting the following environment variables:\n",
    "- `MLFLOW_TRACKING_URI` - URL to the MLFlow Tracking server.\n",
    "- `MLFLOW_S3_ENDPOINT_URL` - URL to the MLFlow S3 Backend Store.\n"
   ]
  },
  {
   "cell_type": "markdown",
   "metadata": {},
   "source": [
    "## Step 0: Exploratory Data Analysis\n",
    "Pull paths of images in the dataset from `minio`"
   ]
  },
  {
   "cell_type": "code",
   "execution_count": 5,
   "metadata": {},
   "outputs": [
    {
     "data": {
      "text/plain": [
       "'food-101/test/beef_carpaccio/103294.jpg'"
      ]
     },
     "execution_count": 5,
     "metadata": {},
     "output_type": "execute_result"
    }
   ],
   "source": [
    "DATA_BUCKET = \"datasets\"\n",
    "DATASET = \"food-101\"\n",
    "img_files = list(\n",
    "    minio.list_objects_v2(bucket_name=DATA_BUCKET,\n",
    "                          prefix=DATASET,\n",
    "                          recursive=True)\n",
    ")\n",
    "img_paths = [f.object_name for f in img_files]\n",
    "img_paths[0]"
   ]
  },
  {
   "cell_type": "markdown",
   "metadata": {},
   "source": [
    "Extract dataset image metadata into a dataframe:\n",
    "-  data `subset` it belong to (ie train/test/validation).\n",
    "- `label` from the path from image path\n",
    "-  image size - width and height."
   ]
  },
  {
   "cell_type": "code",
   "execution_count": 6,
   "metadata": {},
   "outputs": [
    {
     "name": "stdout",
     "output_type": "stream",
     "text": [
      "CPU times: user 1.14 s, sys: 107 ms, total: 1.25 s\n",
      "Wall time: 8.34 s\n"
     ]
    }
   ],
   "source": [
    "%%time\n",
    "# extract subset and label from image path\n",
    "img_parts = [ f.split(\"/\") + [f] for f in img_paths ]\n",
    "# retrieve size of dataset images\n",
    "def read_img(f):\n",
    "    minio = Minio(os.environ[\"MINIO_HOST\"],\n",
    "              access_key=os.environ[\"MINIO_ACCESS_KEY\"],\n",
    "              secret_key=os.environ[\"MINIO_SECRET_KEY\"],\n",
    "              secure=False)\n",
    "    resp = minio.get_object(DATA_BUCKET, f)\n",
    "    img_bytes = BytesIO(resp.read())\n",
    "    resp.close()\n",
    "    resp.release_conn()\n",
    "    return Image.open(img_bytes)\n",
    "imgs = db.from_sequence(img_paths, npartitions=200).map(read_img)\n",
    "img_sizes = imgs.map((lambda img: img.size)).compute()"
   ]
  },
  {
   "cell_type": "code",
   "execution_count": 7,
   "metadata": {},
   "outputs": [
    {
     "data": {
      "text/html": [
       "<div>\n",
       "<style scoped>\n",
       "    .dataframe tbody tr th:only-of-type {\n",
       "        vertical-align: middle;\n",
       "    }\n",
       "\n",
       "    .dataframe tbody tr th {\n",
       "        vertical-align: top;\n",
       "    }\n",
       "\n",
       "    .dataframe thead th {\n",
       "        text-align: right;\n",
       "    }\n",
       "</style>\n",
       "<table border=\"1\" class=\"dataframe\">\n",
       "  <thead>\n",
       "    <tr style=\"text-align: right;\">\n",
       "      <th></th>\n",
       "      <th>subset</th>\n",
       "      <th>label</th>\n",
       "      <th>path</th>\n",
       "      <th>size</th>\n",
       "    </tr>\n",
       "  </thead>\n",
       "  <tbody>\n",
       "    <tr>\n",
       "      <th>0</th>\n",
       "      <td>test</td>\n",
       "      <td>beef_carpaccio</td>\n",
       "      <td>food-101/test/beef_carpaccio/103294.jpg</td>\n",
       "      <td>(382, 512)</td>\n",
       "    </tr>\n",
       "    <tr>\n",
       "      <th>1</th>\n",
       "      <td>test</td>\n",
       "      <td>beef_carpaccio</td>\n",
       "      <td>food-101/test/beef_carpaccio/1097159.jpg</td>\n",
       "      <td>(289, 512)</td>\n",
       "    </tr>\n",
       "    <tr>\n",
       "      <th>2</th>\n",
       "      <td>test</td>\n",
       "      <td>beef_carpaccio</td>\n",
       "      <td>food-101/test/beef_carpaccio/1130229.jpg</td>\n",
       "      <td>(512, 512)</td>\n",
       "    </tr>\n",
       "    <tr>\n",
       "      <th>3</th>\n",
       "      <td>test</td>\n",
       "      <td>beef_carpaccio</td>\n",
       "      <td>food-101/test/beef_carpaccio/1142668.jpg</td>\n",
       "      <td>(512, 512)</td>\n",
       "    </tr>\n",
       "    <tr>\n",
       "      <th>4</th>\n",
       "      <td>test</td>\n",
       "      <td>beef_carpaccio</td>\n",
       "      <td>food-101/test/beef_carpaccio/120791.jpg</td>\n",
       "      <td>(512, 384)</td>\n",
       "    </tr>\n",
       "  </tbody>\n",
       "</table>\n",
       "</div>"
      ],
      "text/plain": [
       "  subset           label                                      path        size\n",
       "0   test  beef_carpaccio   food-101/test/beef_carpaccio/103294.jpg  (382, 512)\n",
       "1   test  beef_carpaccio  food-101/test/beef_carpaccio/1097159.jpg  (289, 512)\n",
       "2   test  beef_carpaccio  food-101/test/beef_carpaccio/1130229.jpg  (512, 512)\n",
       "3   test  beef_carpaccio  food-101/test/beef_carpaccio/1142668.jpg  (512, 512)\n",
       "4   test  beef_carpaccio   food-101/test/beef_carpaccio/120791.jpg  (512, 384)"
      ]
     },
     "execution_count": 7,
     "metadata": {},
     "output_type": "execute_result"
    }
   ],
   "source": [
    "# construct dataframe with dataset image metadata\n",
    "df = pd.DataFrame(img_parts, columns=[\n",
    "    \"dataset\",\n",
    "    \"subset\",\n",
    "    \"label\",\n",
    "    \"fname\",\n",
    "    \"path\",\n",
    "])\n",
    "df[\"size\"] = img_sizes\n",
    "df = df.drop(columns=[\"dataset\", \"fname\"])\n",
    "# convert categorical column to category dtype\n",
    "for cat_col in [ \"label\", \"subset\" ]:\n",
    "    df[cat_col] = df[cat_col].astype(\"category\")\n",
    "eda_df = df[[\"subset\",\"label\",\"size\"]]\n",
    "df.head()"
   ]
  },
  {
   "cell_type": "markdown",
   "metadata": {},
   "source": [
    "Compute descriptive statisitics on dataset metadata:"
   ]
  },
  {
   "cell_type": "code",
   "execution_count": 8,
   "metadata": {},
   "outputs": [
    {
     "data": {
      "text/html": [
       "<div>\n",
       "<style scoped>\n",
       "    .dataframe tbody tr th:only-of-type {\n",
       "        vertical-align: middle;\n",
       "    }\n",
       "\n",
       "    .dataframe tbody tr th {\n",
       "        vertical-align: top;\n",
       "    }\n",
       "\n",
       "    .dataframe thead th {\n",
       "        text-align: right;\n",
       "    }\n",
       "</style>\n",
       "<table border=\"1\" class=\"dataframe\">\n",
       "  <thead>\n",
       "    <tr style=\"text-align: right;\">\n",
       "      <th></th>\n",
       "      <th>subset</th>\n",
       "      <th>label</th>\n",
       "      <th>size</th>\n",
       "    </tr>\n",
       "  </thead>\n",
       "  <tbody>\n",
       "    <tr>\n",
       "      <th>count</th>\n",
       "      <td>10000</td>\n",
       "      <td>10000</td>\n",
       "      <td>10000</td>\n",
       "    </tr>\n",
       "    <tr>\n",
       "      <th>unique</th>\n",
       "      <td>3</td>\n",
       "      <td>10</td>\n",
       "      <td>221</td>\n",
       "    </tr>\n",
       "    <tr>\n",
       "      <th>top</th>\n",
       "      <td>train</td>\n",
       "      <td>strawberry_shortcake</td>\n",
       "      <td>(512, 512)</td>\n",
       "    </tr>\n",
       "    <tr>\n",
       "      <th>freq</th>\n",
       "      <td>7500</td>\n",
       "      <td>1000</td>\n",
       "      <td>6157</td>\n",
       "    </tr>\n",
       "  </tbody>\n",
       "</table>\n",
       "</div>"
      ],
      "text/plain": [
       "       subset                 label        size\n",
       "count   10000                 10000       10000\n",
       "unique      3                    10         221\n",
       "top     train  strawberry_shortcake  (512, 512)\n",
       "freq     7500                  1000        6157"
      ]
     },
     "execution_count": 8,
     "metadata": {},
     "output_type": "execute_result"
    }
   ],
   "source": [
    "eda_df.describe()"
   ]
  },
  {
   "cell_type": "markdown",
   "metadata": {},
   "source": [
    "Visualize distribution of dataset by subset:"
   ]
  },
  {
   "cell_type": "code",
   "execution_count": 9,
   "metadata": {},
   "outputs": [
    {
     "name": "stdout",
     "output_type": "stream",
     "text": [
      "train         7500\n",
      "validation    2000\n",
      "test           500\n",
      "Name: subset, dtype: int64\n"
     ]
    },
    {
     "data": {
      "text/plain": [
       "<seaborn.axisgrid.FacetGrid at 0x7fc4baf75a58>"
      ]
     },
     "execution_count": 9,
     "metadata": {},
     "output_type": "execute_result"
    },
    {
     "data": {
      "image/png": "[encoded data removed]",
      "text/plain": [
       "<Figure size 360x360 with 1 Axes>"
      ]
     },
     "metadata": {
      "needs_background": "light"
     },
     "output_type": "display_data"
    }
   ],
   "source": [
    "print(eda_df[\"subset\"].value_counts())\n",
    "sns.catplot(y=\"subset\", kind=\"count\", data=eda_df)"
   ]
  },
  {
   "cell_type": "markdown",
   "metadata": {},
   "source": [
    "Visualize distribution of dataset by food category (`label`):"
   ]
  },
  {
   "cell_type": "code",
   "execution_count": 10,
   "metadata": {},
   "outputs": [
    {
     "name": "stdout",
     "output_type": "stream",
     "text": [
      "strawberry_shortcake    1000\n",
      "fried_rice              1000\n",
      "french_toast            1000\n",
      "fish_and_chips          1000\n",
      "dumplings               1000\n",
      "churros                 1000\n",
      "chocolate_cake          1000\n",
      "cheese_plate            1000\n",
      "bibimbap                1000\n",
      "beef_carpaccio          1000\n",
      "Name: label, dtype: int64\n",
      "10\n"
     ]
    },
    {
     "data": {
      "text/plain": [
       "<seaborn.axisgrid.FacetGrid at 0x7fc4baf15438>"
      ]
     },
     "execution_count": 10,
     "metadata": {},
     "output_type": "execute_result"
    },
    {
     "data": {
      "image/png": "[encoded data removed]",
      "text/plain": [
       "<Figure size 360x360 with 1 Axes>"
      ]
     },
     "metadata": {
      "needs_background": "light"
     },
     "output_type": "display_data"
    }
   ],
   "source": [
    "print(eda_df[\"label\"].value_counts())\n",
    "print(eda_df[\"label\"].nunique())\n",
    "sns.catplot(y=\"label\", kind=\"count\", data=eda_df)"
   ]
  },
  {
   "cell_type": "markdown",
   "metadata": {},
   "source": [
    "> Since there is no data imbalance between classes, no resampling needs to be done."
   ]
  },
  {
   "cell_type": "markdown",
   "metadata": {},
   "source": [
    "Inspecting the distribution of image sizes:"
   ]
  },
  {
   "cell_type": "code",
   "execution_count": 11,
   "metadata": {},
   "outputs": [
    {
     "name": "stdout",
     "output_type": "stream",
     "text": [
      "(512, 512)    6157\n",
      "(512, 384)    1506\n",
      "(384, 512)     613\n",
      "(382, 512)     239\n",
      "(512, 382)     227\n",
      "              ... \n",
      "(389, 512)       1\n",
      "(512, 355)       1\n",
      "(415, 512)       1\n",
      "(512, 230)       1\n",
      "(512, 375)       1\n",
      "Name: size, Length: 221, dtype: int64\n",
      "Dataset contains 221 image sizes.\n"
     ]
    }
   ],
   "source": [
    "print(eda_df[\"size\"].value_counts())\n",
    "print(f\"Dataset contains {eda_df['size'].nunique()} image sizes.\")"
   ]
  },
  {
   "cell_type": "markdown",
   "metadata": {},
   "source": [
    "> Since there are multiple image sizes, the images would have to resized to conform to a standard size."
   ]
  },
  {
   "cell_type": "code",
   "execution_count": 12,
   "metadata": {},
   "outputs": [
    {
     "name": "stdout",
     "output_type": "stream",
     "text": [
      "Top 5 Smallest image sizes:\n"
     ]
    },
    {
     "data": {
      "text/plain": [
       "[(512, 222), (512, 226), (512, 230), (512, 231), (512, 236)]"
      ]
     },
     "execution_count": 12,
     "metadata": {},
     "output_type": "execute_result"
    }
   ],
   "source": [
    "print(\"Top 5 Smallest image sizes:\")\n",
    "sorted(eda_df[\"size\"].unique() , key=(lambda size: size[0] * size[1]))[:5]"
   ]
  },
  {
   "cell_type": "markdown",
   "metadata": {},
   "source": [
    "Compute descriptive statstics on the dataset images:\n",
    "- Workaround the multiple image sizes by computing the statistics for each individual image.\n",
    "- Aggregate the statistics for each sample to derive dataset statistic.\n",
    "- Use `dask` to do statistics computation as dataset does not fit into memory\n",
    "- Compute statistics by channel to get more accurate estimates."
   ]
  },
  {
   "cell_type": "code",
   "execution_count": 13,
   "metadata": {},
   "outputs": [
    {
     "name": "stdout",
     "output_type": "stream",
     "text": [
      "CPU times: user 4.33 s, sys: 321 ms, total: 4.65 s\n",
      "Wall time: 37.5 s\n"
     ]
    }
   ],
   "source": [
    "%%time\n",
    "img_arrs = imgs.map((lambda img: np.asarray(img)))\n",
    "\n",
    "# total number of pixels per channel in the dataset\n",
    "n_channel_pixels = (\n",
    "    img_arrs\n",
    "    # multiply height * width dims\n",
    "    .map((lambda arr: arr.shape[0] * arr.shape[1]))\n",
    "    .sum()\n",
    ")\n",
    "\n",
    "min_rgb = (\n",
    "    img_arrs\n",
    "    # compute min by channel dim\n",
    "    .map((lambda arr: arr.min(axis=(0, 1))))\n",
    "    .fold((lambda min_a, min_b: np.minimum(min_a, min_b)))\n",
    ")\n",
    "\n",
    "max_rgb = (\n",
    "    img_arrs\n",
    "    # compute max by channel dim\n",
    "    .map((lambda arr: arr.max(axis=(0, 1))))\n",
    "    .fold((lambda max_a, max_b: np.maximum(max_a, max_b)))\n",
    ")\n",
    "\n",
    "mean_rgb = (\n",
    "    img_arrs\n",
    "    # compute mean by channel dim\n",
    "    .map((lambda arr: arr.mean(axis=(0, 1))))\n",
    "    .fold((lambda max_a, max_b: np.mean([max_a, max_b], axis=0)))\n",
    ")\n",
    "\n",
    "n_channel_pixels, min_rgb, max_rgb, mean_rgb = d.compute(\n",
    "    n_channel_pixels,  min_rgb,  max_rgb, mean_rgb\n",
    ")"
   ]
  },
  {
   "cell_type": "code",
   "execution_count": 14,
   "metadata": {},
   "outputs": [
    {
     "name": "stdout",
     "output_type": "stream",
     "text": [
      "CPU times: user 2.2 s, sys: 197 ms, total: 2.39 s\n",
      "Wall time: 26.9 s\n"
     ]
    }
   ],
   "source": [
    "%%time\n",
    "std_rgb = (\n",
    "    img_arrs\n",
    "    # compute by channel dim:\n",
    "    # sum((x - mean)^ 2)\n",
    "    # ----------------------\n",
    "    # n_channel_pixels - 1\n",
    "    .map((lambda arr: np.sum(((arr - mean_rgb) ** 2), axis=(0, 1))))\n",
    "    .sum()\n",
    "    .compute() / (n_channel_pixels - 1)\n",
    ") ** 0.5"
   ]
  },
  {
   "cell_type": "code",
   "execution_count": 15,
   "metadata": {},
   "outputs": [
    {
     "name": "stdout",
     "output_type": "stream",
     "text": [
      "min RGB: [0 0 0]\n",
      "max RGB: [255 255 255]\n",
      "mean RGB: [133.36350383 109.78761907  94.96847991]\n",
      "standard deviation RGB: [70.36123406 71.24328341 71.43638741]\n"
     ]
    }
   ],
   "source": [
    "print(\"min RGB:\", min_rgb)\n",
    "print(\"max RGB:\", max_rgb)\n",
    "print(\"mean RGB:\", mean_rgb)\n",
    "print(\"standard deviation RGB:\", std_rgb)"
   ]
  },
  {
   "cell_type": "markdown",
   "metadata": {},
   "source": [
    "## Step 1: Load Dataset and Prepare Data\n",
    "\n",
    "### Image Generator"
   ]
  },
  {
   "cell_type": "markdown",
   "metadata": {},
   "source": [
    "Define a custom data generator `MinioImgGen` prepares a batch of data by:\n",
    "- Pulls image data from the dataset from `minio` in the `DATA_BUCKET`\n",
    "- Perform image augumentation using `albumentations`\n",
    "- One hot encoding the labels/classes into one hot vectors\n",
    "- Preprocess images "
   ]
  },
  {
   "cell_type": "code",
   "execution_count": 16,
   "metadata": {},
   "outputs": [],
   "source": [
    "class MinioImgGen(Sequence):\n",
    "    def __init__(self,  \n",
    "                 minio_client: Minio, \n",
    "                 bucket: str, \n",
    "                 labels_df: pd.DataFrame, \n",
    "                 n_classes: int,\n",
    "                 img_size: Tuple[int, int],\n",
    "                 mean_rgb: np.ndarray,\n",
    "                 std_rgb: np.ndarray,\n",
    "                 batch_size=1024,\n",
    "                 use_preprocessing=True,\n",
    "                 use_augumentation=True):\n",
    "        \"\"\"Create a new data generator that feeds model-ready data from minio \n",
    "        \n",
    "        Obtains data from minio, optionally performs image augumentation and\n",
    "        performs preprocessing to clean the data for model use.\n",
    "        \n",
    "        Args:\n",
    "            minio_client: minio client that can be used to retrieve the dataset.\n",
    "            bucket: name of the bucket that contains the dataset.\n",
    "            labels_df: \n",
    "                Dataframe containing the subset (ie train/test), label and its path\n",
    "                in the data bucket where the image can be retrieved.\n",
    "            n_classes:\n",
    "                Max number of possible classes/labels the generated images belong to.\n",
    "            img_size:\n",
    "                Tuple of width height to resize the images to.\n",
    "            mean_rgb:\n",
    "                Numpy array of shape (3,) containing the mean computed\n",
    "                by each Red Green Blue channel used for preprocessing data.\n",
    "            std_rgb:\n",
    "                Numpy array of shape (3,) containing the standard deviation computed\n",
    "                by each Red Green Blue channel used for preprocessing data.\n",
    "            batch_size: Size of the image batch returned by this generator\n",
    "            use_augmentation: Whether to use use image augumentation.\n",
    "            use_preprocessing: \n",
    "                Whether to do image preprocessing to clean data for model use.\n",
    "                Pass a Function to do custom image preprocessing.\n",
    "                True for standard scaling image preprocessing using given std_rgb, mean_rgb.\n",
    "                False for no image preprocessing.\n",
    "        \"\"\"\n",
    "        self.minio, self.bucket, self.labels_df = minio_client, bucket, labels_df\n",
    "        self.n_classes, self.img_size = n_classes, img_size\n",
    "        self.batch_size, self.use_preprocessing = batch_size, use_preprocessing\n",
    "        self.mean_rgb, self.std_rgb = mean_rgb, std_rgb\n",
    "        if use_augumentation:\n",
    "            self.augmentation = self.build_aug()\n",
    "        else:\n",
    "            self.augmentation = self.build_non_aug()\n",
    "        # create thread pool used to speed up image generator by parallelising\n",
    "        self.threads = ThreadPool(processes=cpu_count())\n",
    "        self.on_epoch_end()\n",
    "        \n",
    "    def on_epoch_end(self):\n",
    "        # shuffle the order which the data is fed to the model every epoh\n",
    "        self.epoch_df = self.labels_df.sample(frac=1) \n",
    "    \n",
    "    def __len__(self):\n",
    "        # return the number of batches per epoch\n",
    "        return floor(len(self.epoch_df) / self.batch_size)\n",
    "    \n",
    "    def build_aug(self):\n",
    "        # build image augumentation transform\n",
    "        return A.Compose([\n",
    "            A.RandomResizedCrop(*self.img_size),\n",
    "            A.HorizontalFlip(),\n",
    "            A.Rotate(limit=45, p=0.6),\n",
    "            A.RandomBrightnessContrast(),\n",
    "            A.GaussNoise(p=0.3),\n",
    "            # distortions\n",
    "            A.OneOf([\n",
    "                A.OpticalDistortion(p=0.3),\n",
    "                A.GridDistortion(p=0.1),\n",
    "                A.IAASharpen(),\n",
    "                A.IAAEmboss(),\n",
    "                A.CLAHE(clip_limit=2),\n",
    "            ]),\n",
    "            # Blurs\n",
    "            A.OneOf([\n",
    "                A.MotionBlur(p=0.2),\n",
    "                A.Blur(p=0.1),\n",
    "                A.MedianBlur(blur_limit=3, p=0.2),\n",
    "                A.ImageCompression(p=0.3, quality_lower=40, quality_upper=85),\n",
    "            ]),\n",
    "            A.OneOf([\n",
    "                A.HueSaturationValue(hue_shift_limit=8, p=0.5),\n",
    "                A.ToGray(p=0.01),\n",
    "            ])\n",
    "        ])\n",
    "    \n",
    "    def build_non_aug(self):\n",
    "        # build non augumentation transform\n",
    "        return A.Compose([\n",
    "            A.CenterCrop(*self.img_size)\n",
    "        ])\n",
    "\n",
    "    # according the the profiler, this operation takes the longest per call\n",
    "    # optimize [erformance using numba JIT.\n",
    "    @staticmethod\n",
    "    @numba.jit(nopython=True)\n",
    "    def preprocess(img_arrs: np.ndarray,\n",
    "                   mean_rgb: np.ndarray,\n",
    "                   std_rgb: np.ndarray):\n",
    "        # perform standardisation to preprocess data\n",
    "        return (img_arrs - mean_rgb) / std_rgb\n",
    "\n",
    "    def __getitem__(self, batch_idx: int):\n",
    "        # generate a batch_idx of data batch of data\n",
    "        batch_df = self.epoch_df[batch_idx * self.batch_size: \n",
    "                                 (batch_idx + 1) * self.batch_size]\n",
    "\n",
    "        # TODO: experiment with dask to see if a speedup can be observed.\n",
    "        # pull and read the image samples from minio\n",
    "        def read_bytes(path):\n",
    "            resp = self.minio.get_object(self.bucket, path)\n",
    "            b = BytesIO(resp.read())\n",
    "            resp.close()\n",
    "            resp.release_conn()\n",
    "            return b\n",
    "        img_bytes = self.threads.map(read_bytes, batch_df[\"path\"])\n",
    "\n",
    "        # read images\n",
    "        imgs = [Image.open(b) for b in  img_bytes]\n",
    "        img_arrs = [np.asarray(i) for i in imgs]\n",
    "\n",
    "        # apply image transforms (ie augumentations)\n",
    "        img_arrs = np.stack(self.threads.map(\n",
    "            (lambda img_arr: self.augmentation(image=img_arr)[\"image\"]),\n",
    "            img_arrs,\n",
    "        ))\n",
    "\n",
    "        # apply preprocess to clean data for model use\n",
    "        if self.use_preprocessing == True:\n",
    "            img_arrs = MinioImgGen.preprocess(img_arrs, self.mean_rgb, self.std_rgb)\n",
    "        elif callable(self.use_preprocessing):\n",
    "            img_arrs = self.use_preprocessing(img_arrs)\n",
    "\n",
    "        # one hot encode labels\n",
    "        labels = to_categorical(batch_df[\"label\"].cat.codes,\n",
    "                                num_classes=self.n_classes)\n",
    "        return img_arrs, labels"
   ]
  },
  {
   "cell_type": "markdown",
   "metadata": {},
   "source": [
    "Check that the `MinioImgGen` can generate images and is relatively performant:\n",
    "- Since this is called during training for every batch, performance overhead\n",
    "  from `MinioImgGen` can significantly increase training time."
   ]
  },
  {
   "cell_type": "code",
   "execution_count": 17,
   "metadata": {},
   "outputs": [
    {
     "name": "stdout",
     "output_type": "stream",
     "text": [
      "4.33 s ± 177 ms per loop (mean ± std. dev. of 7 runs, 1 loop each)\n"
     ]
    }
   ],
   "source": [
    "trailgen = MinioImgGen(\n",
    "    minio_client=minio,\n",
    "    bucket=DATA_BUCKET,\n",
    "    labels_df=df,\n",
    "    img_size=(222, 222),\n",
    "    n_classes=df[\"label\"].nunique(),\n",
    "    mean_rgb=mean_rgb,\n",
    "    std_rgb=std_rgb,\n",
    "    batch_size=1024,\n",
    "    use_preprocessing=True,\n",
    "    use_augumentation=True,\n",
    ")\n",
    "%timeit trailgen.__getitem__(1)"
   ]
  },
  {
   "cell_type": "markdown",
   "metadata": {},
   "source": [
    "Visualise images produced by `MinioImgGen`"
   ]
  },
  {
   "cell_type": "code",
   "execution_count": 18,
   "metadata": {},
   "outputs": [
    {
     "data": {
      "image/png": "[encoded data removed]",
      "text/plain": [
       "<Figure size 720x360 with 8 Axes>"
      ]
     },
     "metadata": {
      "needs_background": "light"
     },
     "output_type": "display_data"
    }
   ],
   "source": [
    "# disable preprocessing to make images humanly recongizable\n",
    "trailgen.use_preprocessing = False\n",
    "imgs, y = trailgen.__getitem__(1)\n",
    "fig, axs = plt.subplots(2, 4, figsize=(10, 5))\n",
    "for i, ax_row in enumerate(axs):\n",
    "    for j, ax in enumerate(ax_row):\n",
    "        idx = randint(0, len(imgs))\n",
    "        ax.set_axis_off()\n",
    "        ax.imshow(imgs[idx])"
   ]
  },
  {
   "cell_type": "markdown",
   "metadata": {},
   "source": [
    "### Dataset Subsets\n",
    "Configure data generators for train/test and validation subsets"
   ]
  },
  {
   "cell_type": "code",
   "execution_count": 19,
   "metadata": {},
   "outputs": [],
   "source": [
    "def get_datagens(img_size: Tuple[int, int],\n",
    "                 batch_size: int,\n",
    "                 df: pd.DataFrame,\n",
    "                 minio=minio,\n",
    "                 bucket=DATA_BUCKET,\n",
    "                 use_preprocessing=True,\n",
    "                 mean_rgb=mean_rgb,\n",
    "                 std_rgb=std_rgb):\n",
    "    \"\"\"Get train/validation data generators\n",
    "\n",
    "    Args:\n",
    "        img_size: Width, height tuple specifying the dimensions of the images produced.\n",
    "        batch_size: Size of the batches produced\n",
    "        labels_df: Dataframe containing data subset, path, and label.\n",
    "        minio: minio client that can be used to retrieve the dataset.\n",
    "        bucket: name of the bucket that contains the dataset.\n",
    "        mean_rgb:\n",
    "            Numpy array of shape (3,) containing the mean computed\n",
    "            by each Red Green Blue channel used for preprocessing data.\n",
    "        std_rgb:\n",
    "            Numpy array of shape (3,) containing the standard deviation computed\n",
    "            by each Red Green Blue channel.\n",
    "        use_preprocessing: \n",
    "            Whether to do image preprocessing to clean data for model use.\n",
    "            Pass a Function to do custom image preprocessing.\n",
    "            True for standard scaling image preprocessing using given std_rgb, mean_rgb.\n",
    "            False for no image preprocessing.\n",
    "    Returns:\n",
    "        Train, Validation, Test dataDataset Subsets generators\n",
    "    \"\"\"\n",
    "    common_params = {\n",
    "        \"minio_client\": minio,\n",
    "        \"bucket\": DATA_BUCKET,\n",
    "        \"img_size\": img_size,\n",
    "        \"batch_size\": batch_size,\n",
    "        \"mean_rgb\": mean_rgb,\n",
    "        \"std_rgb\": std_rgb,\n",
    "        \"use_preprocessing\": use_preprocessing,\n",
    "        \"n_classes\": df[\"label\"].nunique(),\n",
    "    }\n",
    "\n",
    "    train_gen = MinioImgGen(\n",
    "        **common_params,\n",
    "        labels_df=df[df[\"subset\"] == \"train\"],\n",
    "        use_augumentation=True,\n",
    "    )\n",
    "    valid_gen = MinioImgGen(\n",
    "        **common_params,\n",
    "        labels_df=df[df[\"subset\"] == \"validation\"],\n",
    "        use_augumentation=False,\n",
    "    )\n",
    "    test_gen = MinioImgGen(\n",
    "        **common_params,\n",
    "        labels_df=df[df[\"subset\"] == \"test\"],\n",
    "        use_augumentation=False,\n",
    "    )\n",
    "\n",
    "    return train_gen, valid_gen, test_gen"
   ]
  },
  {
   "cell_type": "markdown",
   "metadata": {},
   "source": [
    "## Step 2:  Develop the Image Classification Models"
   ]
  },
  {
   "cell_type": "markdown",
   "metadata": {},
   "source": [
    "### Model #1\n",
    "Build the _From Scratch_ Model composed of:\n",
    "- Convolution Blocks composed of convolution, batch normzalization and any regularization.\n",
    "- Resnet Blocks composed of multiple convolution blocks and residual connections.\n",
    "- Dense Classifier block used to generate final predictions."
   ]
  },
  {
   "cell_type": "markdown",
   "metadata": {},
   "source": [
    "Define a convolution block as a building block for our CNN model:"
   ]
  },
  {
   "cell_type": "code",
   "execution_count": 20,
   "metadata": {},
   "outputs": [],
   "source": [
    "def conv_block(in_op,\n",
    "               n_filters=32,\n",
    "               filter_size=(3, 3),\n",
    "               l2_reg=None,\n",
    "               use_batch_norm=True,\n",
    "               dropout_prob=0.0,\n",
    "               relu_leak=3e-2,\n",
    "              ):\n",
    "    \"\"\"Append convolution block to the given input tensor in_op\"\"\"\n",
    "    x = in_op\n",
    "    x = Conv2D(\n",
    "        filters=n_filters, \n",
    "        kernel_size=filter_size,\n",
    "        padding=\"same\",\n",
    "        kernel_regularizer=None if l2_reg is None else l2(l=l2_reg),\n",
    "    )(x)\n",
    "    if use_batch_norm:\n",
    "        x = BatchNormalization()(x)\n",
    "    if dropout_prob > 0.0:\n",
    "        x = Dropout(dropout_prob)(x)\n",
    "    x = LeakyReLU(relu_leak)(x)\n",
    "    return x"
   ]
  },
  {
   "cell_type": "markdown",
   "metadata": {},
   "source": [
    "Define a Renset block that uses the convolution block with Resnet style skip connnects for faster training"
   ]
  },
  {
   "cell_type": "code",
   "execution_count": 21,
   "metadata": {},
   "outputs": [],
   "source": [
    "def resnet_block(in_op,\n",
    "                 n_conv_blocks=3,\n",
    "                 **conv_params):\n",
    "    \"\"\"Append a resnet style conolution block to the given in_op\"\"\"\n",
    "    x = in_op\n",
    "    for l in range(n_conv_blocks):\n",
    "        x = conv_block(x, **conv_params)\n",
    "    # since the channels dimensions may be different x and in_op,\n",
    "    # we apply a 1 by 1 conv on in_op ensure the channel dim matches up\n",
    "    l2_reg = conv_params[\"l2_reg\"]\n",
    "    in_op = Conv2D(\n",
    "        filters=conv_params[\"n_filters\"],\n",
    "        kernel_size=(1, 1),\n",
    "        kernel_regularizer=None if l2_reg is None else l2(l=l2_reg),\n",
    "        padding=\"same\",\n",
    "        use_bias=False\n",
    "    )(in_op)\n",
    "    x = Add()([x, in_op])\n",
    "    return x"
   ]
  },
  {
   "cell_type": "markdown",
   "metadata": {},
   "source": [
    "Define a Fully connnected classifier block that produces multiclass softmax probablities:\n",
    "- one hidden layer followed by an output layer configured to output probablities for each class"
   ]
  },
  {
   "cell_type": "code",
   "execution_count": 22,
   "metadata": {},
   "outputs": [],
   "source": [
    "def dense_classifier(in_op,\n",
    "                     n_dense_units=128,\n",
    "                     n_classes=10,\n",
    "                     regularizer=None,\n",
    "                     use_batch_norm=True,\n",
    "                     dropout_prob=0.0,\n",
    "                     l2_reg=None,\n",
    "                     relu_leak=3e-2):\n",
    "    \"\"\"Append a dense classfier block to the given in_op\"\"\"\n",
    "    x = in_op\n",
    "    x = Dropout(dropout_prob)(x)\n",
    "    x = Dense(\n",
    "        units=n_dense_units,\n",
    "        kernel_regularizer=None if l2_reg is None else l2(l=l2_reg),\n",
    "    )(x)\n",
    "    if use_batch_norm:\n",
    "        x = BatchNormalization()(x)\n",
    "    x = Dropout(dropout_prob)(x)\n",
    "    x = LeakyReLU(relu_leak)(x)\n",
    "    # classifier output layer\n",
    "    x = Dense(\n",
    "        units=n_classes,\n",
    "        activation=\"softmax\",\n",
    "        kernel_regularizer=None if l2_reg is None else l2(l=l2_reg),\n",
    "    )(x)\n",
    "    return x"
   ]
  },
  {
   "cell_type": "markdown",
   "metadata": {},
   "source": [
    "Putting the building blocks together to build a model:\n",
    "- Start with a convolution block and pool.\n",
    "- Perform convolution with resnet blocks with increasing no. of filters, and pooling to reduce feature map spatial dims.\n",
    "- Global Average pool to remove spatial dims entirely, leaving only channels.\n",
    "- Make multi-class predictions using dense classifer block.\n"
   ]
  },
  {
   "cell_type": "code",
   "execution_count": 23,
   "metadata": {},
   "outputs": [],
   "source": [
    "def build_model(input_shape=(256, 256, 3),\n",
    "                in_conv_filter_size=(7, 7),\n",
    "                conv_filter_size=(3, 3),\n",
    "                n_classes=10,\n",
    "                n_conv_filters=[\n",
    "                    32,\n",
    "                    64,\n",
    "                    128,\n",
    "                ],\n",
    "                n_conv_blocks=3,\n",
    "                n_resnet_blocks=1,\n",
    "                n_dense_units=128,\n",
    "                **block_params):\n",
    "    in_op = Input(shape=input_shape)\n",
    "    x = in_op\n",
    "    # use larger filter size on input to gain more global infomation\n",
    "    x = conv_block(\n",
    "        in_op=x,\n",
    "        n_filters=n_conv_filters[0],\n",
    "        filter_size=in_conv_filter_size,\n",
    "        **block_params\n",
    "    )\n",
    "    x = MaxPool2D(pool_size=(2, 2))(x)\n",
    "\n",
    "    # add resnet blocks based on n_filters filter spec\n",
    "    for i_filter, n_filter in enumerate(n_conv_filters):\n",
    "        for i_block in range(n_resnet_blocks):\n",
    "            x = resnet_block(\n",
    "                in_op=x,\n",
    "                n_conv_blocks=n_conv_blocks,\n",
    "                n_filters=n_filter,\n",
    "                filter_size=conv_filter_size,\n",
    "                **block_params,\n",
    "            )\n",
    "        # add max pooling to all layers except last layer\n",
    "        if i_filter < (len(n_conv_filters) - 1):\n",
    "            x = MaxPool2D(pool_size=(2, 2))(x)\n",
    "\n",
    "    # apply global avg pooling to remove spatial dimensions\n",
    "    x = GlobalAveragePooling2D()(x)\n",
    "    \n",
    "    # dense layer to produce classifications\n",
    "    x = dense_classifier(\n",
    "        in_op=x,\n",
    "        n_dense_units=n_dense_units,\n",
    "        n_classes=n_classes,\n",
    "        **block_params\n",
    "    )\n",
    "    \n",
    "    return Model(\n",
    "        inputs=in_op,\n",
    "        outputs=x,\n",
    "    )"
   ]
  },
  {
   "cell_type": "markdown",
   "metadata": {},
   "source": [
    "Define callbacks to add custom functionality during training:\n",
    "- `TensorBoard` callback records training progress for later viewing with tensorboard.\n",
    "- `ReduceLROnPlateau` callback reduces learning rate when the model is \n",
    "    stuck (ie `val_loss` does not move for `patience` epochs).\n",
    "- `mlflow_log` custom callback logs params, metrics and trained model  to MLFlow."
   ]
  },
  {
   "cell_type": "code",
   "execution_count": 24,
   "metadata": {},
   "outputs": [],
   "source": [
    "def compile_callbacks(reduce_lr_stuck, reduce_lr_patience, reduce_lr_factor):\n",
    "    # compile callbacks\n",
    "    callbacks = []\n",
    "    # callback to log tensorboard\n",
    "    log_dir = mkdtemp()\n",
    "    tensorboard = TensorBoard(log_dir=log_dir)\n",
    "    callbacks.append(tensorboard)\n",
    "\n",
    "    # callback to reduce lr on stuck on plateau\n",
    "    mlflow.log_param(\"reduce_lr_stuck\", reduce_lr_stuck)\n",
    "    if reduce_lr_stuck:\n",
    "        callbacks.append(\n",
    "            ReduceLROnPlateau(\n",
    "                factor=reduce_lr_factor,\n",
    "                patience=reduce_lr_patience, \n",
    "                monitor=\"loss\",\n",
    "            )\n",
    "        )\n",
    "        mlflow.log_params({\n",
    "            \"reduce_lr_factor\": reduce_lr_factor,\n",
    "            \"reduce_lr_patience\": reduce_lr_patience,\n",
    "        })\n",
    "    # callback to log to tensorboard during model training\n",
    "    def on_epoch_end(n_epoch, logs):\n",
    "        mlflow.log_metrics(logs, step=n_epoch)\n",
    "    def on_train_end(logs=None):\n",
    "        # due to this issue https://github.com/tensorflow/tensorflow/issues/38498\n",
    "        # logs is always none.\n",
    "        mlflow.log_artifacts(log_dir, \"tensorboard_logs\")\n",
    "        rmtree(log_dir, ignore_errors=True)\n",
    "    mlflow_log = LambdaCallback(\n",
    "        on_epoch_end=on_epoch_end,\n",
    "        on_train_end=on_train_end,\n",
    "    )\n",
    "    callbacks.append(mlflow_log)\n",
    "    return callbacks"
   ]
  },
  {
   "cell_type": "markdown",
   "metadata": {},
   "source": [
    "Putting it all together with `train_eval_model()`:\n",
    "- compiles, trains, evaluates model from `build_model()`\n",
    "- records model run to mlflow tracking."
   ]
  },
  {
   "cell_type": "code",
   "execution_count": 25,
   "metadata": {},
   "outputs": [],
   "source": [
    "def train_eval_model(labels_df: pd.DataFrame,\n",
    "                     git_repo: Repo,\n",
    "                     build_model_fn=build_model,\n",
    "                     use_preprocessing=True,\n",
    "                     epochs=30,\n",
    "                     lr=1e-3,\n",
    "                     optimizer=\"adam\",\n",
    "                     sgd_momentum=0.9,\n",
    "                     loss=\"categorical_crossentropy\",\n",
    "                     metrics=[\n",
    "                         \"accuracy\",\n",
    "                     ],\n",
    "                     img_size=(256, 256),\n",
    "                     reduce_lr_stuck=False,\n",
    "                     reduce_lr_patience=5,\n",
    "                     reduce_lr_factor=0.1,\n",
    "                     batch_size=32,\n",
    "                     tags={\n",
    "                         \"project\": \"dl-assign-1\",\n",
    "                         \"kind\": \"from-scratch\",\n",
    "                     },\n",
    "                     run_name=None,\n",
    "                     experiment_name=\"food_101_from_scratch\",\n",
    "                     **build_params):\n",
    "\n",
    "    # setup mlflow experiment and run for logging run to mlflow tracking\n",
    "    mlflow.set_experiment(experiment_name)\n",
    "    with mlflow.start_run(run_name=run_name) as run:\n",
    "        # tags for the experiment\n",
    "        # pull metadata form git repository and tag\n",
    "        tags[\"git-ref\"] = git_repo.head.commit.hexsha\n",
    "        tags[\"version\"] = git_repo.git.describe(\"--always\")\n",
    "        mlflow.set_tags(tags)\n",
    "        \n",
    "        # obtain data generators\n",
    "        train_gen, valid_gen, test_gen = get_datagens(\n",
    "            df=labels_df,\n",
    "            img_size=img_size,\n",
    "            batch_size=batch_size,\n",
    "            use_preprocessing=use_preprocessing,\n",
    "        )\n",
    "        mlflow.log_param(\"img_size\", img_size)\n",
    "        mlflow.log_param(\"batch_size\", batch_size)\n",
    "        \n",
    "        # build model\n",
    "        model = build_model_fn(\n",
    "            input_shape=img_size + (3,),\n",
    "            n_classes=labels_df[\"label\"].nunique(),\n",
    "            **build_params\n",
    "        )\n",
    "        mlflow.log_params(build_params)\n",
    "        # write summary to mlflow\n",
    "        temp_dir = mkdtemp()\n",
    "        summary_fpath = os.path.join(temp_dir, \"summary.txt\")\n",
    "        with open(summary_fpath, \"w\") as f:\n",
    "            model.summary(print_fn=(lambda line: f.write(f\"{line}\\n\")))\n",
    "        mlflow.log_artifact(summary_fpath)\n",
    "        rmtree(temp_dir)\n",
    "\n",
    "        # compile model\n",
    "        optimizers = {\n",
    "            \"adam\": Adam(learning_rate=lr),\n",
    "            \"rmsprop\": RMSprop(learning_rate=lr),\n",
    "            \"sgd\": SGD(learning_rate=lr, momentum=sgd_momentum),\n",
    "        }\n",
    "        model.compile(\n",
    "            optimizer=optimizers[optimizer],\n",
    "            loss=loss,\n",
    "            metrics=metrics,\n",
    "        )\n",
    "        mlflow.log_params({\n",
    "            \"optimizer\": optimizer,\n",
    "            \"loss\": loss,\n",
    "            \"metrics\": metrics,\n",
    "            \"learning_rate\": lr,\n",
    "        })\n",
    "        if optimizer == \"sgd\":\n",
    "            mlflow.log_param(\"sgd_momentum\", sgd_momentum)\n",
    "\n",
    "        # train model\n",
    "        callbacks = compile_callbacks(\n",
    "            reduce_lr_stuck=reduce_lr_stuck,\n",
    "            reduce_lr_factor=reduce_lr_factor,\n",
    "            reduce_lr_patience=reduce_lr_patience,\n",
    "        )\n",
    "        hist = model.fit(\n",
    "            train_gen,\n",
    "            steps_per_epoch=len(train_gen),\n",
    "            validation_data=valid_gen,\n",
    "            validation_steps=len(valid_gen),\n",
    "            epochs=epochs,\n",
    "            callbacks=callbacks,\n",
    "        )\n",
    "        mlflow.keras.log_model(model, \"models\")\n",
    "        # TODO: log model summary\n",
    "        mlflow.log_param(\"fit_epochs\", epochs)\n",
    "\n",
    "        # evaluate model\n",
    "        test_metrics = model.evaluate(test_gen, verbose=2)\n",
    "        # prefix metrics names with test to indicate computed on test set\n",
    "        test_metric_names = [ \"test_\" + name for name in model.metrics_names ]\n",
    "        mlflow.log_metrics(dict(zip(test_metric_names, test_metrics)))\n",
    "        \n",
    "    return model"
   ]
  },
  {
   "cell_type": "code",
   "execution_count": null,
   "metadata": {},
   "outputs": [
    {
     "name": "stdout",
     "output_type": "stream",
     "text": [
      "WARNING:tensorflow:sample_weight modes were coerced from\n",
      "  ...\n",
      "    to  \n",
      "  ['...']\n",
      "WARNING:tensorflow:sample_weight modes were coerced from\n",
      "  ...\n",
      "    to  \n",
      "  ['...']\n",
      "Train for 234 steps, validate for 62 steps\n",
      "Epoch 1/400\n",
      "234/234 [==============================] - 53s 225ms/step - loss: 2.0917 - accuracy: 0.2612 - val_loss: 2.4099 - val_accuracy: 0.2414\n",
      "Epoch 2/400\n",
      "234/234 [==============================] - 49s 211ms/step - loss: 1.9247 - accuracy: 0.3265 - val_loss: 2.4633 - val_accuracy: 0.2727\n",
      "Epoch 3/400\n",
      "234/234 [==============================] - 49s 210ms/step - loss: 1.8138 - accuracy: 0.3717 - val_loss: 1.8260 - val_accuracy: 0.4083\n",
      "Epoch 4/400\n",
      "234/234 [==============================] - 49s 208ms/step - loss: 1.7236 - accuracy: 0.4004 - val_loss: 2.2949 - val_accuracy: 0.2812\n",
      "Epoch 5/400\n",
      "234/234 [==============================] - 49s 209ms/step - loss: 1.6384 - accuracy: 0.4426 - val_loss: 2.3704 - val_accuracy: 0.3422\n",
      "Epoch 6/400\n",
      "234/234 [==============================] - 49s 208ms/step - loss: 1.5545 - accuracy: 0.4712 - val_loss: 1.4767 - val_accuracy: 0.4884\n",
      "Epoch 7/400\n",
      "234/234 [==============================] - 49s 211ms/step - loss: 1.4924 - accuracy: 0.4976 - val_loss: 1.4343 - val_accuracy: 0.5212\n",
      "Epoch 8/400\n",
      "234/234 [==============================] - 49s 211ms/step - loss: 1.4193 - accuracy: 0.5156 - val_loss: 1.7786 - val_accuracy: 0.4980\n",
      "Epoch 9/400\n",
      "234/234 [==============================] - 49s 211ms/step - loss: 1.4004 - accuracy: 0.5315 - val_loss: 1.3182 - val_accuracy: 0.5595\n",
      "Epoch 10/400\n",
      "234/234 [==============================] - 49s 211ms/step - loss: 1.3374 - accuracy: 0.5513 - val_loss: 2.1777 - val_accuracy: 0.3725\n",
      "Epoch 11/400\n",
      "234/234 [==============================] - 49s 211ms/step - loss: 1.2849 - accuracy: 0.5638 - val_loss: 1.1741 - val_accuracy: 0.6190\n",
      "Epoch 12/400\n",
      "234/234 [==============================] - 50s 212ms/step - loss: 1.2729 - accuracy: 0.5739 - val_loss: 1.2375 - val_accuracy: 0.5857\n",
      "Epoch 13/400\n",
      "234/234 [==============================] - 49s 211ms/step - loss: 1.2389 - accuracy: 0.5833 - val_loss: 2.3421 - val_accuracy: 0.3589\n",
      "Epoch 14/400\n",
      "234/234 [==============================] - 49s 211ms/step - loss: 1.1857 - accuracy: 0.6036 - val_loss: 1.3059 - val_accuracy: 0.5575\n",
      "Epoch 15/400\n",
      "234/234 [==============================] - 49s 210ms/step - loss: 1.1970 - accuracy: 0.5939 - val_loss: 1.1646 - val_accuracy: 0.6043\n",
      "Epoch 16/400\n",
      "234/234 [==============================] - 49s 209ms/step - loss: 1.1706 - accuracy: 0.6038 - val_loss: 1.3791 - val_accuracy: 0.5570\n",
      "Epoch 17/400\n",
      "234/234 [==============================] - 50s 212ms/step - loss: 1.1328 - accuracy: 0.6225 - val_loss: 1.3896 - val_accuracy: 0.5323\n",
      "Epoch 18/400\n",
      "234/234 [==============================] - 49s 209ms/step - loss: 1.1183 - accuracy: 0.6293 - val_loss: 1.5887 - val_accuracy: 0.5091\n",
      "Epoch 19/400\n",
      "234/234 [==============================] - 49s 211ms/step - loss: 1.0875 - accuracy: 0.6326 - val_loss: 1.5551 - val_accuracy: 0.5363\n",
      "Epoch 20/400\n",
      "234/234 [==============================] - 49s 210ms/step - loss: 1.0741 - accuracy: 0.6440 - val_loss: 1.3957 - val_accuracy: 0.5630\n",
      "Epoch 21/400\n",
      "234/234 [==============================] - 49s 209ms/step - loss: 1.0701 - accuracy: 0.6409 - val_loss: 1.1974 - val_accuracy: 0.6089\n",
      "Epoch 22/400\n",
      "234/234 [==============================] - 49s 210ms/step - loss: 1.0376 - accuracy: 0.6565 - val_loss: 1.3438 - val_accuracy: 0.5746\n",
      "Epoch 23/400\n",
      "234/234 [==============================] - 49s 211ms/step - loss: 1.0079 - accuracy: 0.6627 - val_loss: 1.3478 - val_accuracy: 0.5741\n",
      "Epoch 24/400\n",
      "234/234 [==============================] - 49s 211ms/step - loss: 1.0072 - accuracy: 0.6645 - val_loss: 1.2229 - val_accuracy: 0.6144\n",
      "Epoch 25/400\n",
      "234/234 [==============================] - 50s 212ms/step - loss: 0.9891 - accuracy: 0.6652 - val_loss: 1.3644 - val_accuracy: 0.5580\n",
      "Epoch 26/400\n",
      "234/234 [==============================] - 49s 210ms/step - loss: 0.9877 - accuracy: 0.6696 - val_loss: 1.0370 - val_accuracy: 0.6552\n",
      "Epoch 27/400\n",
      "234/234 [==============================] - 49s 210ms/step - loss: 0.9644 - accuracy: 0.6732 - val_loss: 1.0700 - val_accuracy: 0.6623\n",
      "Epoch 28/400\n",
      "234/234 [==============================] - 49s 209ms/step - loss: 0.9487 - accuracy: 0.6814 - val_loss: 1.2710 - val_accuracy: 0.6230\n",
      "Epoch 29/400\n",
      "234/234 [==============================] - 49s 210ms/step - loss: 0.9316 - accuracy: 0.6892 - val_loss: 1.1613 - val_accuracy: 0.6064\n",
      "Epoch 30/400\n",
      "234/234 [==============================] - 49s 209ms/step - loss: 0.9398 - accuracy: 0.6952 - val_loss: 1.2464 - val_accuracy: 0.6053\n",
      "Epoch 31/400\n",
      "234/234 [==============================] - 49s 209ms/step - loss: 0.9175 - accuracy: 0.6987 - val_loss: 1.3072 - val_accuracy: 0.6089\n",
      "Epoch 32/400\n",
      "234/234 [==============================] - 49s 211ms/step - loss: 0.9013 - accuracy: 0.7015 - val_loss: 1.0964 - val_accuracy: 0.6401\n",
      "Epoch 33/400\n",
      "234/234 [==============================] - 49s 211ms/step - loss: 0.8872 - accuracy: 0.7054 - val_loss: 1.1643 - val_accuracy: 0.6184\n",
      "Epoch 34/400\n",
      "234/234 [==============================] - 49s 211ms/step - loss: 0.8587 - accuracy: 0.7157 - val_loss: 1.2675 - val_accuracy: 0.6079\n",
      "Epoch 35/400\n",
      "234/234 [==============================] - 49s 209ms/step - loss: 0.8690 - accuracy: 0.7169 - val_loss: 1.3772 - val_accuracy: 0.5721\n",
      "Epoch 36/400\n",
      "234/234 [==============================] - 49s 210ms/step - loss: 0.8473 - accuracy: 0.7226 - val_loss: 0.9355 - val_accuracy: 0.6941\n",
      "Epoch 37/400\n",
      "234/234 [==============================] - 50s 212ms/step - loss: 0.8439 - accuracy: 0.7212 - val_loss: 1.0248 - val_accuracy: 0.7031\n",
      "Epoch 38/400\n",
      "234/234 [==============================] - 50s 212ms/step - loss: 0.8396 - accuracy: 0.7208 - val_loss: 2.1847 - val_accuracy: 0.4693\n",
      "Epoch 39/400\n",
      "234/234 [==============================] - 49s 210ms/step - loss: 0.8350 - accuracy: 0.7266 - val_loss: 0.8825 - val_accuracy: 0.7213\n",
      "Epoch 40/400\n",
      "234/234 [==============================] - 49s 210ms/step - loss: 0.8003 - accuracy: 0.7372 - val_loss: 1.2471 - val_accuracy: 0.6235\n",
      "Epoch 41/400\n",
      "234/234 [==============================] - 49s 211ms/step - loss: 0.8135 - accuracy: 0.7334 - val_loss: 0.9697 - val_accuracy: 0.7046\n",
      "Epoch 42/400\n",
      "234/234 [==============================] - 49s 210ms/step - loss: 0.7717 - accuracy: 0.7441 - val_loss: 1.0724 - val_accuracy: 0.6678\n",
      "Epoch 43/400\n",
      "234/234 [==============================] - 49s 210ms/step - loss: 0.7998 - accuracy: 0.7368 - val_loss: 0.9316 - val_accuracy: 0.7011\n",
      "Epoch 44/400\n",
      "234/234 [==============================] - 49s 209ms/step - loss: 0.7758 - accuracy: 0.7443 - val_loss: 0.8331 - val_accuracy: 0.7213\n",
      "Epoch 45/400\n",
      "234/234 [==============================] - 49s 211ms/step - loss: 0.7692 - accuracy: 0.7492 - val_loss: 1.4226 - val_accuracy: 0.6205\n",
      "Epoch 46/400\n",
      "234/234 [==============================] - 49s 211ms/step - loss: 0.7469 - accuracy: 0.7581 - val_loss: 1.2233 - val_accuracy: 0.6447\n",
      "Epoch 47/400\n",
      "234/234 [==============================] - 49s 210ms/step - loss: 0.7536 - accuracy: 0.7513 - val_loss: 1.5266 - val_accuracy: 0.6038\n",
      "Epoch 48/400\n",
      "234/234 [==============================] - 50s 213ms/step - loss: 0.7785 - accuracy: 0.7468 - val_loss: 1.1986 - val_accuracy: 0.6255\n",
      "Epoch 49/400\n",
      "234/234 [==============================] - 49s 211ms/step - loss: 0.7526 - accuracy: 0.7471 - val_loss: 0.8256 - val_accuracy: 0.7334\n",
      "Epoch 50/400\n",
      "234/234 [==============================] - 49s 211ms/step - loss: 0.7384 - accuracy: 0.7568 - val_loss: 0.8245 - val_accuracy: 0.7394\n",
      "Epoch 51/400\n",
      "234/234 [==============================] - 49s 211ms/step - loss: 0.7167 - accuracy: 0.7606 - val_loss: 1.2946 - val_accuracy: 0.6371\n",
      "Epoch 52/400\n",
      "234/234 [==============================] - 49s 211ms/step - loss: 0.7202 - accuracy: 0.7642 - val_loss: 0.9854 - val_accuracy: 0.6956\n",
      "Epoch 53/400\n",
      "234/234 [==============================] - 49s 211ms/step - loss: 0.7022 - accuracy: 0.7715 - val_loss: 1.0363 - val_accuracy: 0.6815\n",
      "Epoch 54/400\n",
      "234/234 [==============================] - 49s 209ms/step - loss: 0.7014 - accuracy: 0.7658 - val_loss: 1.3485 - val_accuracy: 0.6406\n",
      "Epoch 55/400\n",
      "234/234 [==============================] - 49s 210ms/step - loss: 0.6869 - accuracy: 0.7747 - val_loss: 1.0675 - val_accuracy: 0.6744\n",
      "Epoch 56/400\n",
      "234/234 [==============================] - 49s 210ms/step - loss: 0.6928 - accuracy: 0.7690 - val_loss: 1.2946 - val_accuracy: 0.6361\n",
      "Epoch 57/400\n",
      "234/234 [==============================] - 49s 211ms/step - loss: 0.7011 - accuracy: 0.7730 - val_loss: 0.8011 - val_accuracy: 0.7581\n",
      "Epoch 58/400\n",
      "234/234 [==============================] - 49s 211ms/step - loss: 0.6815 - accuracy: 0.7732 - val_loss: 1.1345 - val_accuracy: 0.6799\n",
      "Epoch 59/400\n",
      "234/234 [==============================] - 49s 210ms/step - loss: 0.6940 - accuracy: 0.7791 - val_loss: 0.9211 - val_accuracy: 0.7172\n",
      "Epoch 60/400\n",
      "234/234 [==============================] - 49s 209ms/step - loss: 0.6645 - accuracy: 0.7812 - val_loss: 1.1236 - val_accuracy: 0.6487\n",
      "Epoch 61/400\n",
      "234/234 [==============================] - 49s 210ms/step - loss: 0.6518 - accuracy: 0.7827 - val_loss: 1.0229 - val_accuracy: 0.6850\n",
      "Epoch 62/400\n",
      "234/234 [==============================] - 49s 210ms/step - loss: 0.6600 - accuracy: 0.7859 - val_loss: 0.9515 - val_accuracy: 0.7389\n",
      "Epoch 63/400\n",
      "234/234 [==============================] - 49s 210ms/step - loss: 0.6287 - accuracy: 0.7906 - val_loss: 0.9145 - val_accuracy: 0.7172\n",
      "Epoch 64/400\n",
      "234/234 [==============================] - 49s 210ms/step - loss: 0.6465 - accuracy: 0.7841 - val_loss: 1.4065 - val_accuracy: 0.6149\n",
      "Epoch 65/400\n",
      "234/234 [==============================] - 49s 209ms/step - loss: 0.6271 - accuracy: 0.7987 - val_loss: 1.2021 - val_accuracy: 0.6497\n",
      "Epoch 66/400\n",
      "234/234 [==============================] - 49s 210ms/step - loss: 0.6164 - accuracy: 0.7945 - val_loss: 1.0269 - val_accuracy: 0.6815\n",
      "Epoch 67/400\n",
      "234/234 [==============================] - 49s 210ms/step - loss: 0.6309 - accuracy: 0.7897 - val_loss: 0.8528 - val_accuracy: 0.7505\n",
      "Epoch 68/400\n",
      "234/234 [==============================] - 49s 210ms/step - loss: 0.5906 - accuracy: 0.8046 - val_loss: 1.3709 - val_accuracy: 0.6285\n",
      "Epoch 69/400\n",
      "234/234 [==============================] - 49s 210ms/step - loss: 0.6321 - accuracy: 0.7946 - val_loss: 1.0802 - val_accuracy: 0.6941\n",
      "Epoch 70/400\n",
      "234/234 [==============================] - 49s 210ms/step - loss: 0.6132 - accuracy: 0.7935 - val_loss: 0.8956 - val_accuracy: 0.7258\n",
      "Epoch 71/400\n",
      "234/234 [==============================] - 49s 210ms/step - loss: 0.6136 - accuracy: 0.7987 - val_loss: 0.8008 - val_accuracy: 0.7601\n",
      "Epoch 72/400\n",
      "234/234 [==============================] - 49s 210ms/step - loss: 0.5978 - accuracy: 0.8029 - val_loss: 0.7883 - val_accuracy: 0.7631\n",
      "Epoch 73/400\n",
      "234/234 [==============================] - 49s 211ms/step - loss: 0.5963 - accuracy: 0.7995 - val_loss: 1.0201 - val_accuracy: 0.7011\n",
      "Epoch 74/400\n",
      "234/234 [==============================] - 49s 211ms/step - loss: 0.5848 - accuracy: 0.8094 - val_loss: 0.9831 - val_accuracy: 0.7041\n",
      "Epoch 75/400\n",
      "234/234 [==============================] - 49s 209ms/step - loss: 0.5920 - accuracy: 0.8089 - val_loss: 0.8023 - val_accuracy: 0.7394\n",
      "Epoch 76/400\n",
      "234/234 [==============================] - 49s 211ms/step - loss: 0.5882 - accuracy: 0.8060 - val_loss: 0.7579 - val_accuracy: 0.7616\n",
      "Epoch 77/400\n",
      "234/234 [==============================] - 50s 212ms/step - loss: 0.5818 - accuracy: 0.8070 - val_loss: 0.8600 - val_accuracy: 0.7555\n",
      "Epoch 78/400\n",
      "234/234 [==============================] - 49s 211ms/step - loss: 0.5828 - accuracy: 0.8086 - val_loss: 0.7939 - val_accuracy: 0.7777\n",
      "Epoch 79/400\n",
      "234/234 [==============================] - 49s 211ms/step - loss: 0.5458 - accuracy: 0.8208 - val_loss: 0.6565 - val_accuracy: 0.8105\n",
      "Epoch 80/400\n",
      "234/234 [==============================] - 49s 209ms/step - loss: 0.5558 - accuracy: 0.8245 - val_loss: 0.9551 - val_accuracy: 0.7429\n",
      "Epoch 81/400\n",
      "234/234 [==============================] - 49s 211ms/step - loss: 0.5527 - accuracy: 0.8169 - val_loss: 0.8905 - val_accuracy: 0.7434\n",
      "Epoch 82/400\n",
      "234/234 [==============================] - 49s 209ms/step - loss: 0.5530 - accuracy: 0.8186 - val_loss: 0.8432 - val_accuracy: 0.7601\n",
      "Epoch 83/400\n",
      "234/234 [==============================] - 49s 212ms/step - loss: 0.5738 - accuracy: 0.8134 - val_loss: 1.1681 - val_accuracy: 0.6779\n",
      "Epoch 84/400\n",
      "234/234 [==============================] - 49s 210ms/step - loss: 0.5508 - accuracy: 0.8164 - val_loss: 0.9502 - val_accuracy: 0.7495\n",
      "Epoch 85/400\n",
      "234/234 [==============================] - 49s 211ms/step - loss: 0.5382 - accuracy: 0.8240 - val_loss: 0.8964 - val_accuracy: 0.7525\n",
      "Epoch 86/400\n",
      "234/234 [==============================] - 50s 212ms/step - loss: 0.5534 - accuracy: 0.8196 - val_loss: 1.0985 - val_accuracy: 0.6835\n",
      "Epoch 87/400\n",
      "234/234 [==============================] - 49s 209ms/step - loss: 0.5371 - accuracy: 0.8277 - val_loss: 0.8356 - val_accuracy: 0.7389\n",
      "Epoch 88/400\n",
      "234/234 [==============================] - 49s 210ms/step - loss: 0.5324 - accuracy: 0.8247 - val_loss: 0.7853 - val_accuracy: 0.8080\n",
      "Epoch 89/400\n",
      "234/234 [==============================] - 49s 210ms/step - loss: 0.5347 - accuracy: 0.8231 - val_loss: 0.9895 - val_accuracy: 0.7107\n",
      "Epoch 90/400\n",
      "234/234 [==============================] - 49s 211ms/step - loss: 0.5260 - accuracy: 0.8289 - val_loss: 0.8050 - val_accuracy: 0.7732\n",
      "Epoch 91/400\n",
      "234/234 [==============================] - 50s 212ms/step - loss: 0.5422 - accuracy: 0.8235 - val_loss: 0.7964 - val_accuracy: 0.7656\n",
      "Epoch 92/400\n",
      "234/234 [==============================] - 49s 211ms/step - loss: 0.5218 - accuracy: 0.8307 - val_loss: 1.4841 - val_accuracy: 0.6260\n",
      "Epoch 93/400\n",
      "234/234 [==============================] - 49s 210ms/step - loss: 0.5129 - accuracy: 0.8308 - val_loss: 1.1859 - val_accuracy: 0.6462\n",
      "Epoch 94/400\n",
      "234/234 [==============================] - 49s 211ms/step - loss: 0.5082 - accuracy: 0.8340 - val_loss: 0.7369 - val_accuracy: 0.7883\n",
      "Epoch 95/400\n",
      "234/234 [==============================] - 49s 210ms/step - loss: 0.5078 - accuracy: 0.8325 - val_loss: 0.7971 - val_accuracy: 0.7737\n",
      "Epoch 96/400\n",
      "234/234 [==============================] - 49s 211ms/step - loss: 0.5042 - accuracy: 0.8356 - val_loss: 0.9382 - val_accuracy: 0.7243\n",
      "Epoch 97/400\n",
      "234/234 [==============================] - 49s 210ms/step - loss: 0.5123 - accuracy: 0.8288 - val_loss: 0.7755 - val_accuracy: 0.7858\n",
      "Epoch 98/400\n",
      "234/234 [==============================] - 49s 211ms/step - loss: 0.5040 - accuracy: 0.8359 - val_loss: 0.9437 - val_accuracy: 0.7475\n",
      "Epoch 99/400\n",
      "234/234 [==============================] - 49s 210ms/step - loss: 0.4868 - accuracy: 0.8401 - val_loss: 0.7920 - val_accuracy: 0.7757\n",
      "Epoch 100/400\n",
      "234/234 [==============================] - 49s 211ms/step - loss: 0.4959 - accuracy: 0.8389 - val_loss: 0.7306 - val_accuracy: 0.7954\n",
      "Epoch 101/400\n",
      "234/234 [==============================] - 49s 211ms/step - loss: 0.4882 - accuracy: 0.8417 - val_loss: 0.9479 - val_accuracy: 0.7288\n",
      "Epoch 102/400\n",
      "234/234 [==============================] - 49s 211ms/step - loss: 0.4890 - accuracy: 0.8392 - val_loss: 0.6216 - val_accuracy: 0.8090\n",
      "Epoch 103/400\n",
      "234/234 [==============================] - 50s 212ms/step - loss: 0.4868 - accuracy: 0.8407 - val_loss: 0.7827 - val_accuracy: 0.7767\n",
      "Epoch 104/400\n",
      "234/234 [==============================] - 49s 210ms/step - loss: 0.4602 - accuracy: 0.8499 - val_loss: 1.1916 - val_accuracy: 0.7031\n",
      "Epoch 105/400\n",
      "234/234 [==============================] - 49s 210ms/step - loss: 0.4663 - accuracy: 0.8499 - val_loss: 0.6874 - val_accuracy: 0.8120\n",
      "Epoch 106/400\n",
      "234/234 [==============================] - 49s 211ms/step - loss: 0.4816 - accuracy: 0.8411 - val_loss: 0.7954 - val_accuracy: 0.7777\n",
      "Epoch 107/400\n",
      "234/234 [==============================] - 49s 211ms/step - loss: 0.4541 - accuracy: 0.8466 - val_loss: 0.6987 - val_accuracy: 0.8054\n",
      "Epoch 108/400\n",
      "234/234 [==============================] - 49s 210ms/step - loss: 0.4625 - accuracy: 0.8476 - val_loss: 0.7564 - val_accuracy: 0.7812\n",
      "Epoch 109/400\n",
      "234/234 [==============================] - 49s 210ms/step - loss: 0.4655 - accuracy: 0.8421 - val_loss: 0.7574 - val_accuracy: 0.7863\n",
      "Epoch 110/400\n",
      "234/234 [==============================] - 49s 210ms/step - loss: 0.4453 - accuracy: 0.8527 - val_loss: 0.9601 - val_accuracy: 0.7480\n",
      "Epoch 111/400\n",
      "234/234 [==============================] - 49s 210ms/step - loss: 0.4621 - accuracy: 0.8476 - val_loss: 0.8075 - val_accuracy: 0.7752\n",
      "Epoch 112/400\n",
      "234/234 [==============================] - 50s 212ms/step - loss: 0.4495 - accuracy: 0.8506 - val_loss: 1.0016 - val_accuracy: 0.7298\n",
      "Epoch 113/400\n",
      "234/234 [==============================] - 49s 211ms/step - loss: 0.4450 - accuracy: 0.8516 - val_loss: 0.9860 - val_accuracy: 0.7248\n",
      "Epoch 114/400\n",
      "234/234 [==============================] - 49s 211ms/step - loss: 0.4538 - accuracy: 0.8550 - val_loss: 0.8448 - val_accuracy: 0.7702\n",
      "Epoch 115/400\n",
      "234/234 [==============================] - 49s 210ms/step - loss: 0.4407 - accuracy: 0.8555 - val_loss: 0.6899 - val_accuracy: 0.8009\n",
      "Epoch 116/400\n",
      "234/234 [==============================] - 49s 210ms/step - loss: 0.4382 - accuracy: 0.8554 - val_loss: 0.8016 - val_accuracy: 0.7752\n",
      "Epoch 117/400\n",
      "234/234 [==============================] - 49s 210ms/step - loss: 0.4153 - accuracy: 0.8665 - val_loss: 0.7079 - val_accuracy: 0.8034\n",
      "Epoch 118/400\n",
      "234/234 [==============================] - 49s 211ms/step - loss: 0.4613 - accuracy: 0.8450 - val_loss: 0.7490 - val_accuracy: 0.7787\n",
      "Epoch 119/400\n",
      "234/234 [==============================] - 50s 212ms/step - loss: 0.4484 - accuracy: 0.8547 - val_loss: 0.8017 - val_accuracy: 0.7853\n",
      "Epoch 120/400\n",
      "234/234 [==============================] - 49s 211ms/step - loss: 0.4263 - accuracy: 0.8598 - val_loss: 0.8147 - val_accuracy: 0.7908\n",
      "Epoch 121/400\n",
      "234/234 [==============================] - 49s 211ms/step - loss: 0.4471 - accuracy: 0.8531 - val_loss: 0.9449 - val_accuracy: 0.7278\n",
      "Epoch 122/400\n",
      "234/234 [==============================] - 49s 211ms/step - loss: 0.4366 - accuracy: 0.8583 - val_loss: 0.7290 - val_accuracy: 0.7843\n",
      "Epoch 126/400\n",
      "107/234 [============>.................] - ETA: 23s - loss: 0.4100 - accuracy: 0.8627"
     ]
    }
   ],
   "source": [
    "# Train the Model\n",
    "model = train_eval_model(\n",
    "    labels_df=df,\n",
    "    git_repo=Repo(search_parent_directories=True),\n",
    "    build_model_fn=build_model,\n",
    "    use_preprocessing=True,\n",
    "    epochs=400,\n",
    "    lr=1e-3,\n",
    "    optimizer=\"adam\",\n",
    "    sgd_momentum=0.9,\n",
    "    loss=\"categorical_crossentropy\",\n",
    "    metrics=[\n",
    "        \"accuracy\",\n",
    "    ],\n",
    "    img_size=(256, 256),\n",
    "    reduce_lr_stuck=True,\n",
    "    reduce_lr_patience=10,\n",
    "    reduce_lr_factor=0.5,\n",
    "    batch_size=32,\n",
    "    in_conv_filter_size=(7, 7),\n",
    "    conv_filter_size=(3, 3),\n",
    "    n_conv_filters=[\n",
    "        32,\n",
    "        64,\n",
    "        128,\n",
    "        256,\n",
    "    ],\n",
    "    n_conv_blocks=3,\n",
    "    n_resnet_blocks=1,\n",
    "    n_dense_units=256,\n",
    "    l2_reg=0.0,\n",
    "    use_batch_norm=True,\n",
    "    dropout_prob=0.0,\n",
    "    relu_leak=3e-2,\n",
    "    tags={\n",
    "        \"project\": \"dl-assign-1\",\n",
    "        \"kind\": \"from-scratch\",\n",
    "    },\n",
    "    run_name=None,\n",
    "    experiment_name=\"food_101_from_scratch\",\n",
    ")"
   ]
  },
  {
   "cell_type": "markdown",
   "metadata": {},
   "source": [
    "Evaluate From Scratch model training by analyising metrics recorded per training run by `mlflow`:"
   ]
  },
  {
   "cell_type": "code",
   "execution_count": null,
   "metadata": {},
   "outputs": [],
   "source": [
    "# Extract training run metadata & metrics from mlflow as dataframe for easier analysis\n",
    "def extract_run_meta_metrics(experiment, float_cols=[]):\n",
    "    client = MlflowClient()\n",
    "    # pull runs for experiment \n",
    "    experiment_id = client.get_experiment_by_name(experiment).experiment_id\n",
    "    run_infos = client.list_run_infos(experiment_id)\n",
    "    runs = [client.get_run(run_info.run_id) for run_info in run_infos]\n",
    "    \n",
    "    # extract run metrics and metadata from runs\n",
    "    run_metrics = []\n",
    "    run_metas = []\n",
    "    for run in runs:\n",
    "        # extract metadata from metrics\n",
    "        run_id = run.info.run_id\n",
    "        time_ms = (run.info.end_time - run.info.start_time\n",
    "                   if run.info.status == \"FINISHED\" else np.nan)\n",
    "        meta = {\n",
    "            \"artifact_uri\": run.info.artifact_uri,\n",
    "            \"time_ms\": time_ms,\n",
    "            \"run_id\": run_id,\n",
    "            \"status\": run.info.status,\n",
    "        }\n",
    "        meta.update(run.data.params)\n",
    "        meta.update(run.data.tags)\n",
    "        meta.update(run.data.metrics)\n",
    "        run_metas.append(meta)\n",
    "\n",
    "        # metrics history have to be extracted seperately as they have\n",
    "        # a seperate epoch dimension\n",
    "        metric_names = run.data.metrics.keys()\n",
    "        histories = [client.get_metric_history(run_id, name) for name in metric_names]\n",
    "        for history in histories:\n",
    "            for metric in history:\n",
    "                metric_dict = {\n",
    "                    \"run_id\": run_id,\n",
    "                    \"metric\": metric.key,\n",
    "                    \"step\": metric.step,\n",
    "                    \"value\": metric.value,\n",
    "                }\n",
    "                run_metrics.append(metric_dict)\n",
    "\n",
    "    meta_df = pd.DataFrame(run_metas).astype({\n",
    "        col: \"float64\" for col in float_cols\n",
    "    }).set_index(\"run_id\")\n",
    "    metrics_df =  pd.DataFrame(run_metrics)\n",
    "    return meta_df, metrics_df"
   ]
  },
  {
   "cell_type": "code",
   "execution_count": null,
   "metadata": {},
   "outputs": [],
   "source": [
    "# get runs and filter out failed runs.\n",
    "float_cols = [\n",
    "    \"learning_rate\",\n",
    "    \"l2_reg\",\n",
    "    \"n_conv_blocks\",\n",
    "    \"n_resnet_blocks\",\n",
    "    \"n_dense_units\",\n",
    "    \"dropout_prob\",\n",
    "    \"relu_leak\",\n",
    "    \"batch_size\",\n",
    "    \"fit_epochs\",\n",
    "    \"reduce_lr_factor\",\n",
    "    \"reduce_lr_patience\",\n",
    "]\n",
    "run_df, metrics_df = extract_run_meta_metrics(\"food_101_from_scratch\", float_cols)\n",
    "run_df = run_df[run_df[\"status\"] != \"FAILED\"]"
   ]
  },
  {
   "cell_type": "markdown",
   "metadata": {},
   "source": [
    "Plotting the learning curve of the top training run to analyze model fit:"
   ]
  },
  {
   "cell_type": "code",
   "execution_count": null,
   "metadata": {},
   "outputs": [],
   "source": [
    "# get top run by validation accuracy\n",
    "top_id = run_df.sort_values(\n",
    "    by=\"val_accuracy\",\n",
    "    ascending=False,\n",
    ").index[0]\n",
    "top_1_metrics_df = metrics_df[metrics_df[\"run_id\"] == top_id]"
   ]
  },
  {
   "cell_type": "code",
   "execution_count": null,
   "metadata": {},
   "outputs": [],
   "source": [
    "plt.title(\"Loss (From Scratch Top-1)\")\n",
    "sns.lineplot(\n",
    "    data=top_1_metrics_df[top_1_metrics_df[\"metric\"].isin([\"loss\", \"val_loss\"])],\n",
    "    x=\"step\",\n",
    "    y=\"value\",\n",
    "    hue=\"metric\",\n",
    ")"
   ]
  },
  {
   "cell_type": "code",
   "execution_count": null,
   "metadata": {},
   "outputs": [],
   "source": [
    "plt.title(\"Accuracy (From Scratch Top-1)\")\n",
    "sns.lineplot(\n",
    "    data=top_1_metrics_df[top_1_metrics_df[\"metric\"].isin([\"accuracy\", \"val_accuracy\"])],\n",
    "    x=\"step\",\n",
    "    y=\"value\",\n",
    "    hue=\"metric\",\n",
    ")"
   ]
  },
  {
   "cell_type": "code",
   "execution_count": null,
   "metadata": {},
   "outputs": [],
   "source": [
    "plt.title(\"Learning Rate (From Scratch Top-1)\")\n",
    "g = sns.lineplot(\n",
    "    data=top_1_metrics_df[top_1_metrics_df[\"metric\"] == \"lr\"],\n",
    "    x=\"step\",\n",
    "    y=\"value\",\n",
    "    hue=\"metric\",\n",
    ")\n",
    "g.set(yscale=\"log\")"
   ]
  },
  {
   "cell_type": "markdown",
   "metadata": {},
   "source": [
    "Observations on model fit during training:\n",
    "- The gap between training and validation metrics show a training/validation set mismatch. Some of this is expected due image augumentation being applied to training set but not the validation set.\n",
    "- However, the model is not overfitting even with the gap as validation metrics continue to improve together with training metrics, albeit with the gap.\n",
    "- Validation metrics are unstable as seen from their large fluctuations in epochs < 150. At around 150 epochs, the learning rate is reduced by `ReduceLROnPlateau`, leading to smaller fluncations. Possible solutions to this is to reduce learning rate/increase batch size, use K Fold validation/increase validation set size."
   ]
  },
  {
   "cell_type": "markdown",
   "metadata": {},
   "source": [
    "Evaluating how each hyperparameter affects model fit:"
   ]
  },
  {
   "cell_type": "code",
   "execution_count": null,
   "metadata": {},
   "outputs": [],
   "source": [
    "g = sns.lmplot(\n",
    "    data=run_df,\n",
    "    y=\"val_accuracy\",\n",
    "    x=\"learning_rate\",\n",
    ")\n",
    "g.set(\n",
    "    xscale=\"log\",\n",
    "    ylim=(None, 1),\n",
    "    title=\"Hyperparameter: Learning Rate (From Scratch)\"\n",
    ")"
   ]
  },
  {
   "cell_type": "markdown",
   "metadata": {},
   "source": [
    "> The optimium Learning Rate (LR) seems to be around `3e-4` to `1e-3`."
   ]
  },
  {
   "cell_type": "code",
   "execution_count": null,
   "metadata": {},
   "outputs": [],
   "source": [
    "g = sns.lmplot(\n",
    "    data=run_df,\n",
    "    y=\"val_accuracy\",\n",
    "    x=\"fit_epochs\",\n",
    ")\n",
    "g.set(\n",
    "    title=\"Hyperparameter: Fit Epochs (From Scratch)\"\n",
    ")"
   ]
  },
  {
   "cell_type": "markdown",
   "metadata": {},
   "source": [
    "> Generally, training for more epochs provides us better valiation metrics. This however tapers off at around 300 epochs."
   ]
  },
  {
   "cell_type": "code",
   "execution_count": null,
   "metadata": {},
   "outputs": [],
   "source": [
    "# Learning Rate\n",
    "g = sns.catplot(\n",
    "    data=run_df,\n",
    "    y=\"val_accuracy\",\n",
    "    x=\"n_conv_filters\",\n",
    ")\n",
    "g.set_xticklabels(rotation=30)\n",
    "g.set(\n",
    "    title=\"Hyperparameter: Convolution Filter Config (From Scratch)\"\n",
    ")"
   ]
  },
  {
   "cell_type": "markdown",
   "metadata": {},
   "source": [
    "> Trails show the promising results with `[32, 64, 128, 256]` convolution filter configuration:\n",
    "> - Doubling the size of the filters (`[32,64,128,256]->[64,128,256,512]`) provides a negligible improvement to validation accuracy.\n",
    "> - Adding an additional convolution block (`[32,64,128]->[32,64,128,256]`) provides a significant improvement to validatoin accuracy."
   ]
  },
  {
   "cell_type": "code",
   "execution_count": null,
   "metadata": {},
   "outputs": [],
   "source": [
    "g = sns.catplot(\n",
    "    data=run_df,\n",
    "    y=\"val_accuracy\",\n",
    "    x=\"reduce_lr_stuck\",\n",
    ")\n",
    "g.set(title=\"Hyperparameter: Learning Rate Annealing (From Scratch)\")"
   ]
  },
  {
   "cell_type": "markdown",
   "metadata": {},
   "source": [
    "> LR rate annealing with `ReduceLROnPlateau` helps the model to converge to better validation metrics.\n",
    "> - Lowering the LR during training could help the model to converge on minima that it would otherwise jump around in due to relatively high LR."
   ]
  },
  {
   "cell_type": "code",
   "execution_count": null,
   "metadata": {},
   "outputs": [],
   "source": [
    "g = sns.lmplot(\n",
    "    data=run_df,\n",
    "    y=\"val_accuracy\",\n",
    "    x=\"fit_epochs\",\n",
    "    hue=\"optimizer\",\n",
    ")\n",
    "g.set(\n",
    "    ylim=(None, 1),\n",
    "    title=\"Hyperparameter: Optimizer (From Scratch)\"\n",
    ")"
   ]
  },
  {
   "cell_type": "markdown",
   "metadata": {},
   "source": [
    "> Using the `Adam` optimizer provides a slight validation accuracy bump as compared to `SGD`."
   ]
  },
  {
   "cell_type": "markdown",
   "metadata": {},
   "source": [
    "### Model #2\n",
    "Building the `Fine Tuned` Model:\n",
    "- Repurpose NASNet layers pretrained on ImageNet dataset to our dataset.\n",
    "- Fine Tune pretrained model by Freezing all layers except deep layers to train deeper layers."
   ]
  },
  {
   "cell_type": "markdown",
   "metadata": {},
   "source": [
    "Define `build_model_pretrain()` to build pretrained model:"
   ]
  },
  {
   "cell_type": "code",
   "execution_count": null,
   "metadata": {},
   "outputs": [],
   "source": [
    "# Build the Model\n",
    "def build_model_pretrain(\n",
    "    input_shape=(224, 224, 3),\n",
    "    n_classes=10,\n",
    "    freeze_frac=0.9,\n",
    "    **block_params,\n",
    "):\n",
    "    nasnet = NASNetMobile(\n",
    "        weights=\"imagenet\",\n",
    "        input_shape=input_shape,\n",
    "        include_top=False,\n",
    "    )\n",
    "    # Pull pretrained NASNet layers\n",
    "    # Freeze layers up to specified freeze_frac fraction of layers\n",
    "    n_freeze = int(len(nasnet.layers) * freeze_frac)\n",
    "    for i in range(n_freeze):\n",
    "        nasnet.layers[i].trainable = False\n",
    "\n",
    "    # Build model by including dense classifier\n",
    "    x = nasnet.output\n",
    "    x = GlobalAveragePooling2D()(x)\n",
    "    x = dense_classifier(\n",
    "        in_op=x,\n",
    "        **block_params,\n",
    "    )\n",
    "\n",
    "    return Model(inputs=nasnet.input, outputs=x)"
   ]
  },
  {
   "cell_type": "markdown",
   "metadata": {},
   "source": [
    "Specifying multi-staged training with `train_eval_staged_model()`"
   ]
  },
  {
   "cell_type": "code",
   "execution_count": null,
   "metadata": {},
   "outputs": [],
   "source": [
    "# unfreeze more\n",
    "model = train_eval_model(\n",
    "    build_model_fn=build_model_pretrain,\n",
    "    lr=1e-4,\n",
    "    epochs=150,\n",
    "    freeze_frac=0.5,\n",
    "    labels_df=df,\n",
    "    git_repo=Repo(search_parent_directories=True),\n",
    "    use_preprocessing=preprocess_input,\n",
    "    optimizer=\"adam\",\n",
    "    sgd_momentum=0.85,\n",
    "    loss=\"categorical_crossentropy\",\n",
    "    metrics=[\n",
    "        \"accuracy\",\n",
    "    ],\n",
    "    img_size=(224, 224),\n",
    "    reduce_lr_stuck=True,\n",
    "    reduce_lr_patience=10,\n",
    "    reduce_lr_factor=0.5,\n",
    "    batch_size=32,\n",
    "    n_dense_units=256,\n",
    "    l2_reg=0.0,\n",
    "    use_batch_norm=True,\n",
    "    dropout_prob=0.0,\n",
    "    relu_leak=3e-2,\n",
    "    tags={\n",
    "        \"project\": \"dl-assign-1\",\n",
    "        \"kind\": \"fine-tuned\",\n",
    "        \"derived-from\": \"nasnet\",\n",
    "    },\n",
    "    experiment_name=\"food_101_fine_tuned\",\n",
    ")"
   ]
  },
  {
   "cell_type": "markdown",
   "metadata": {},
   "source": [
    "Evaluate fine tuned model training by analyising metrics recorded per training run by `mlflow`:"
   ]
  },
  {
   "cell_type": "code",
   "execution_count": null,
   "metadata": {},
   "outputs": [],
   "source": [
    "# get runs and filter out failed runs.\n",
    "float_cols = [\n",
    "    \"learning_rate\",\n",
    "    \"l2_reg\",\n",
    "    \"n_dense_units\",\n",
    "    \"dropout_prob\",\n",
    "    \"relu_leak\",\n",
    "    \"batch_size\",\n",
    "    \"fit_epochs\",\n",
    "    \"reduce_lr_factor\",\n",
    "    \"reduce_lr_patience\",\n",
    "    \"freeze_frac\",\n",
    "]\n",
    "ft_run_df, ft_metrics_df = extract_run_meta_metrics(\"food_101_fine_tuned\", float_cols)\n",
    "ft_run_df = ft_run_df[ft_run_df[\"status\"] != \"FAILED\"]"
   ]
  },
  {
   "cell_type": "markdown",
   "metadata": {},
   "source": [
    "Plotting the learning curve of the top training run to analyze model fit:"
   ]
  },
  {
   "cell_type": "code",
   "execution_count": null,
   "metadata": {},
   "outputs": [],
   "source": [
    "# get top run by validation accuracy\n",
    "ft_top_id = ft_run_df.sort_values(\n",
    "    by=\"val_accuracy\",\n",
    "    ascending=False,\n",
    ").index[1]\n",
    "ft_top_1_metrics_df = ft_metrics_df[ft_metrics_df[\"run_id\"] == ft_top_id]"
   ]
  },
  {
   "cell_type": "code",
   "execution_count": null,
   "metadata": {},
   "outputs": [],
   "source": [
    "plt.title(\"Loss (Fine Tuned)\")\n",
    "sns.lineplot(\n",
    "    data=ft_top_1_metrics_df[ft_top_1_metrics_df[\"metric\"].isin([\"loss\", \"val_loss\"])],\n",
    "    x=\"step\",\n",
    "    y=\"value\",\n",
    "    hue=\"metric\",\n",
    ")"
   ]
  },
  {
   "cell_type": "code",
   "execution_count": null,
   "metadata": {},
   "outputs": [],
   "source": [
    "plt.title(\"Accuracy (Fine Tuned)\")\n",
    "g = sns.lineplot(\n",
    "    data=ft_top_1_metrics_df[ft_top_1_metrics_df[\"metric\"].isin(\n",
    "        [\"accuracy\", \"val_accuracy\"])],\n",
    "    x=\"step\",\n",
    "    y=\"value\",\n",
    "    hue=\"metric\",\n",
    ")"
   ]
  },
  {
   "cell_type": "code",
   "execution_count": null,
   "metadata": {},
   "outputs": [],
   "source": [
    "plt.title(\"Learning Rate (Fine Tuned)\")\n",
    "g = sns.lineplot(\n",
    "    data=ft_top_1_metrics_df[ft_top_1_metrics_df[\"metric\"] == \"lr\"],\n",
    "    x=\"step\",\n",
    "    y=\"value\",\n",
    "    hue=\"metric\",\n",
    ")\n",
    "g.set(yscale=\"log\")"
   ]
  },
  {
   "cell_type": "markdown",
   "metadata": {},
   "source": [
    "Observations on model fit during training:\n",
    "- Using Pretrained Layers, the model is able to start off at a high accuracy of `0.65`and reach `>0.85` accuracy within a relatively small 20 epochs. This shows that using pretrained layers significantly helps with accelerates model training\n",
    "- The same training/validation metrics gap can be observed for the fine tuned model showing a training/validation set mismatch.\n",
    "- The model is not overfitting as validation metrics continue to improve together with training metrics despite the observed gap in metrics\n",
    "- The effect of LR annealing via `ReduceLROnPlateau` is less pronouced with the fine tuned model, giving only a slight boost to training and validation accuracy."
   ]
  },
  {
   "cell_type": "markdown",
   "metadata": {},
   "source": [
    "Evaluating how each hyperparameter affects model fit:"
   ]
  },
  {
   "cell_type": "code",
   "execution_count": null,
   "metadata": {},
   "outputs": [],
   "source": [
    "g = sns.lmplot(\n",
    "    data=ft_run_df,\n",
    "    y=\"val_accuracy\",\n",
    "    x=\"learning_rate\",\n",
    ")\n",
    "g.set(\n",
    "    xscale=\"log\",\n",
    "    ylim=(None, 1),\n",
    "    title=\"Hyperparameter: Learning Rate (Fine Tuned)\"\n",
    ")"
   ]
  },
  {
   "cell_type": "markdown",
   "metadata": {},
   "source": [
    "> The optimium Learning Rate (LR) seems to be around `1e-4`. The models performance signficantly drops off with learning rate `1e-4`, which could be due to a high learning  rate overwriting the pretrained weights too aggressively."
   ]
  },
  {
   "cell_type": "code",
   "execution_count": null,
   "metadata": {},
   "outputs": [],
   "source": [
    "g = sns.lmplot(\n",
    "    data=ft_run_df,\n",
    "    y=\"val_accuracy\",\n",
    "    x=\"fit_epochs\",\n",
    ")\n",
    "g.set(\n",
    "    title=\"Hyperparameter: Fit Epochs (Fine Tuned)\"\n",
    ")"
   ]
  },
  {
   "cell_type": "markdown",
   "metadata": {},
   "source": [
    "> Generally, training for more epochs provides us better validation metrics, although the effect tapers of >40 epochs"
   ]
  },
  {
   "cell_type": "code",
   "execution_count": null,
   "metadata": {},
   "outputs": [],
   "source": [
    "g = sns.lmplot(\n",
    "    data=ft_run_df,\n",
    "    y=\"val_accuracy\",\n",
    "    x=\"freeze_frac\",\n",
    ")\n",
    "g.set(\n",
    "    title=\"Hyperparameter: Freeze Fraction (Fine Tuned)\",\n",
    "    xlabel=\"Freeze Fraction %\"\n",
    ")"
   ]
  },
  {
   "cell_type": "markdown",
   "metadata": {},
   "source": [
    "> Freezing a smaller fraction of layers, allows more layers to be fine tuned to the dataset, gives a small bump to accuracy."
   ]
  },
  {
   "cell_type": "markdown",
   "metadata": {},
   "source": [
    "## Step 3 – Evaluate the Developed Models using Testing Images\n"
   ]
  },
  {
   "cell_type": "markdown",
   "metadata": {},
   "source": [
    "Select the final model to be used for prediction by:\n",
    "- Selecting the model with the best validation accuracy for each category: From Scratch, Fine Tuned.\n",
    "- retrieving the model's `.h5` file from MLFLow  and loading the model from its `.h5` file."
   ]
  },
  {
   "cell_type": "code",
   "execution_count": null,
   "metadata": {},
   "outputs": [],
   "source": [
    "mlflow_cli = MlflowClient()\n",
    "MODELS_DIR = os.path.join(os.getcwd(), \"models\")\n",
    "os.makedirs(MODELS_DIR, exist_ok=True)"
   ]
  },
  {
   "cell_type": "code",
   "execution_count": null,
   "metadata": {},
   "outputs": [],
   "source": [
    "# Model #1 - best model evaluated based on validation accuracy\n",
    "top_test_id = run_df.sort_values(by=\"val_accuracy\", ascending=False).index[0]\n",
    "model_path = mlflow_cli.download_artifacts(\n",
    "    run_id=top_test_id,\n",
    "    path=\"models/data/model.h5\")\n",
    "model_1 = load_model(model_path)"
   ]
  },
  {
   "cell_type": "code",
   "execution_count": null,
   "metadata": {},
   "outputs": [],
   "source": [
    "# Model #2 - best from model evaluated based on validation accuracy\n",
    "ft_top_test_id = ft_run_df.sort_values(by=\"val_accuracy\", ascending=False).index[0]\n",
    "ft_model_path = mlflow_cli.download_artifacts(\n",
    "    run_id=ft_top_test_id,\n",
    "    path=\"models/data/model.h5\")\n",
    "model_2 = load_model(ft_model_path)"
   ]
  },
  {
   "cell_type": "markdown",
   "metadata": {},
   "source": [
    "- Evaluate best models from each category on the test set using test accuracy."
   ]
  },
  {
   "cell_type": "code",
   "execution_count": null,
   "metadata": {},
   "outputs": [],
   "source": [
    "_, _, test_datagen = get_datagens(\n",
    "    img_size=model_1.input_shape[1:],\n",
    "    batch_size=32,\n",
    "    df=df,\n",
    ")\n",
    "test_loss, test_acc = model_1.evaluate(test_datagen)\n",
    "print(f\"Model 1: Loss: {test_loss} Accuracy: {test_acc}\")"
   ]
  },
  {
   "cell_type": "code",
   "execution_count": null,
   "metadata": {},
   "outputs": [],
   "source": [
    "_, _, test_datagen = get_datagens(\n",
    "    img_size=model_2.input_shape[1:],\n",
    "    batch_size=32,\n",
    "    df=df,\n",
    "    use_preprocessing=preprocess_input,\n",
    ")\n",
    "test_loss, test_acc = model_2.evaluate(test_datagen)\n",
    "print(f\"Model 2: Loss: {test_loss} Accuracy: {test_acc}\")"
   ]
  },
  {
   "cell_type": "markdown",
   "metadata": {},
   "source": [
    "Since Model 2 (Fine Tuned) has better test metrics: higher test accuracy and lower test loss,\n",
    "its selected as the best model.\n"
   ]
  },
  {
   "cell_type": "markdown",
   "metadata": {},
   "source": [
    "## Step 4  – Use the best model to make prediction"
   ]
  },
  {
   "cell_type": "markdown",
   "metadata": {},
   "source": [
    "Download image to predict:"
   ]
  },
  {
   "cell_type": "code",
   "execution_count": null,
   "metadata": {},
   "outputs": [],
   "source": [
    "!wget \"https://www.thespruceeats.com/thmb/y-XbtBL_Wim9m0j9VF1378IeJmY=/3000x3000/smart/filters:no_upscale()/jiaozi-chinese-dumplings-694504-hero-01-745e5f81139e49aa9660b7c2a11a86e1.jpg\" -O ./predict.jpg"
   ]
  },
  {
   "cell_type": "code",
   "execution_count": null,
   "metadata": {},
   "outputs": [],
   "source": [
    "img_arr = np.asarray(Image.open(\"predict.jpg\").resize((512, 512)))\n",
    "plt.imshow(img_arr)"
   ]
  },
  {
   "cell_type": "markdown",
   "metadata": {},
   "source": [
    "Load the food list (in alphabetical order)"
   ]
  },
  {
   "cell_type": "code",
   "execution_count": null,
   "metadata": {},
   "outputs": [],
   "source": [
    "with open('50.txt', 'r') as f: # the .txt file which contains a list of food assigned to you\n",
    "    x = f.readlines()\n",
    "food_list =[]\n",
    "for item in x:\n",
    "    food_list.append(item.strip('\\n'))\n",
    "food_list = sorted(food_list) # food_list needs to be sorted alphabetically before feed into prediction() function\n",
    "print(food_list)"
   ]
  },
  {
   "cell_type": "markdown",
   "metadata": {},
   "source": [
    "Define `predict_food_type(img_arr)` to make prediction easier:"
   ]
  },
  {
   "cell_type": "code",
   "execution_count": null,
   "metadata": {},
   "outputs": [],
   "source": [
    "def predict_food_type(\n",
    "    img_arr: np.ndarray,\n",
    "    model=model_2,\n",
    "    augmentation=test_datagen.build_non_aug(),\n",
    "    food_types=food_list,\n",
    "):\n",
    "    # apply cropping augmentation and apply image preprocessing\n",
    "    img_aug = augmentation(image=img_arr)[\"image\"]\n",
    "    img_processed = preprocess_input(img_aug)\n",
    "    # add batch dimension to process image expected by model\n",
    "    pred_imgs = np.expand_dims(img_processed, axis=0)\n",
    "    # perform prediction with model\n",
    "    pred_probs = model.predict(pred_imgs)[0]\n",
    "    pred_index = np.argmax(pred_probs, axis=0)\n",
    "    return food_types[pred_index]\n",
    " "
   ]
  },
  {
   "cell_type": "code",
   "execution_count": null,
   "metadata": {},
   "outputs": [],
   "source": [
    "plt.imshow(img_arr)\n",
    "print(f\"Model 2 Predicted: {predict_food_type(img_arr)}\")"
   ]
  }
 ],
 "metadata": {
  "kernelspec": {
   "display_name": "Python 3",
   "language": "python",
   "name": "python3"
  },
  "language_info": {
   "codemirror_mode": {
    "name": "ipython",
    "version": 3
   },
   "file_extension": ".py",
   "mimetype": "text/x-python",
   "name": "python",
   "nbconvert_exporter": "python",
   "pygments_lexer": "ipython3",
   "version": "3.6.9"
  },
  "toc-autonumbering": false,
  "toc-showcode": false,
  "toc-showmarkdowntxt": true,
  "toc-showtags": true
 },
 "nbformat": 4,
 "nbformat_minor": 4
}
